{
 "cells": [
  {
   "cell_type": "markdown",
   "id": "9f7c3b46-5f86-4db5-856e-a6d1e69a8a9b",
   "metadata": {},
   "source": [
    "# 목차1 - 식별자\n",
    "- 식별자에 대해 배웁니다."
   ]
  },
  {
   "cell_type": "code",
   "execution_count": 1,
   "id": "f96afda9-fed8-40bd-88e3-291ceb68c5de",
   "metadata": {},
   "outputs": [
    {
     "data": {
      "text/plain": [
       "2"
      ]
     },
     "execution_count": 1,
     "metadata": {},
     "output_type": "execute_result"
    }
   ],
   "source": [
    "1+1\n"
   ]
  },
  {
   "cell_type": "markdown",
   "id": "7ee34a76-4006-4ca8-a10e-6a5784c7f0f1",
   "metadata": {
    "jp-MarkdownHeadingCollapsed": true
   },
   "source": [
    "## 스네이크 케이스와 캐멀 케이스\n",
    "- 각 프로그래밍 언어마다 양식\n",
    "- 클래스를 정의할 때, 앞문자가 대분자여야 함 / CamlCase\n",
    "- 함수를 정의할 때, snake_case 방식으로 사용해라"
   ]
  },
  {
   "cell_type": "markdown",
   "id": "4aebf7f3-7960-4b92-b3db-ceb26dfab9e8",
   "metadata": {},
   "source": [
    "# 목차2 - 식별자 구분하기"
   ]
  },
  {
   "cell_type": "markdown",
   "id": "0fbe1001-6527-49a8-bfac-d39fee242fa1",
   "metadata": {},
   "source": [
    "print() # 소문자\n",
    "list() # 소문자\n",
    "class Animal : # 대문자\n",
    "BeautifulSoup() # 대문자/ CamelCase"
   ]
  },
  {
   "cell_type": "markdown",
   "id": "23a50267-64cc-471e-8279-d54eb6730a61",
   "metadata": {},
   "source": [
    "# 입력과 출력\n",
    "- input() : 입력\n",
    "- print() : 출력"
   ]
  },
  {
   "cell_type": "code",
   "execution_count": 2,
   "id": "29f7a602-9cb9-45d1-b053-54b236012b40",
   "metadata": {},
   "outputs": [
    {
     "name": "stdin",
     "output_type": "stream",
     "text": [
      "아무거나입력하 \n"
     ]
    },
    {
     "name": "stdout",
     "output_type": "stream",
     "text": [
      "\n"
     ]
    }
   ],
   "source": [
    "var1 = input(\"아무거나입력하\")\n",
    "print(var1)"
   ]
  },
  {
   "cell_type": "code",
   "execution_count": 3,
   "id": "78da7f11-cd38-4b02-8e77-d2cf74343e25",
   "metadata": {},
   "outputs": [
    {
     "name": "stdout",
     "output_type": "stream",
     "text": [
      "# 하나만 출력합니다\n",
      "\n",
      "10 20 30\n"
     ]
    }
   ],
   "source": [
    "print(\"# 하나만 출력합니다\")\n",
    "print()\n",
    "print(10, 20, 30)"
   ]
  },
  {
   "cell_type": "code",
   "execution_count": 4,
   "id": "38c744d2-70ad-481d-a82c-1f6a26c23e11",
   "metadata": {},
   "outputs": [
    {
     "name": "stdout",
     "output_type": "stream",
     "text": [
      "#여러 개를 출력합니다.\n",
      "10 20 30 40 50\n",
      "안녕하세요 저의 이름은 장성민입니다!\n",
      "\n"
     ]
    }
   ],
   "source": [
    "#여러 개를 출력합니다.\n",
    "print(\"#여러 개를 출력합니다.\")\n",
    "print(10, 20, 30, 40, 50)\n",
    "print(\"안녕하세요\", \"저의\", \"이름은\", \"장성민입니다!\")\n",
    "print()"
   ]
  },
  {
   "cell_type": "code",
   "execution_count": 5,
   "id": "e6230a6c-f890-4778-8f64-4c42eae01840",
   "metadata": {},
   "outputs": [
    {
     "name": "stdout",
     "output_type": "stream",
     "text": [
      "아무것도출력하지않습니다\n",
      "---확인전용선------\n",
      "\n",
      "\n",
      "---확인전용선------\n"
     ]
    }
   ],
   "source": [
    "#아무것도 입력하지 않으면 단순하게 줄바꿈합니다.\n",
    "print(\"아무것도출력하지않습니다\")\n",
    "print(\"---확인전용선------\")\n",
    "print()\n",
    "print()\n",
    "3print(\"---확인전용선------\")"
   ]
  },
  {
   "cell_type": "markdown",
   "id": "2f6af62f-2f58-41b7-aa7e-4ec200ff0b72",
   "metadata": {},
   "source": [
    "#자료형과 문자열\n",
    "-숫자 : 물건의 가격\n",
    "-문자 : 메시지 내용\n",
    "-논리 / True or False\n",
    "class는 설명서 즉, 설명서를 찾아내야함 python str documetation 이런식으로 검색"
   ]
  },
  {
   "cell_type": "code",
   "execution_count": 6,
   "id": "f3f94b70-5682-4358-b511-a63b4b9f98da",
   "metadata": {},
   "outputs": [
    {
     "name": "stdout",
     "output_type": "stream",
     "text": [
      "<class 'str'>\n"
     ]
    }
   ],
   "source": [
    "print(type(\"안녕하세여\"))"
   ]
  },
  {
   "cell_type": "code",
   "execution_count": 7,
   "id": "428a652d-ea66-4930-a9e0-9b141e310562",
   "metadata": {},
   "outputs": [
    {
     "name": "stdout",
     "output_type": "stream",
     "text": [
      "<class 'pandas.core.frame.DataFrame'>\n"
     ]
    },
    {
     "name": "stderr",
     "output_type": "stream",
     "text": [
      "C:\\Users\\user\\AppData\\Local\\Temp\\ipykernel_11780\\4176926866.py:1: DeprecationWarning: \n",
      "Pyarrow will become a required dependency of pandas in the next major release of pandas (pandas 3.0),\n",
      "(to allow more performant data types, such as the Arrow string type, and better interoperability with other libraries)\n",
      "but was not found to be installed on your system.\n",
      "If this would cause problems for you,\n",
      "please provide us feedback at https://github.com/pandas-dev/pandas/issues/54466\n",
      "        \n",
      "  import pandas as pd\n"
     ]
    }
   ],
   "source": [
    "import pandas as pd \n",
    "df = pd.DataFrame({\n",
    "    'col1' : [1, 2, 3], \n",
    "    'col2' : [1, 2, 3], \n",
    "})\n",
    "\n",
    "print(type(df))"
   ]
  },
  {
   "cell_type": "markdown",
   "id": "8978a98c-afa1-4fbe-bb17-89ffd2ac414b",
   "metadata": {},
   "source": [
    "## 문자열 만들기\n",
    "- 큰 따옴표 방식 / 작은 따옴표 방식\n",
    "- 결론부터 말하면, 지금은 크게 구분하지 않는다.\n",
    "- 주의해야 하는 것은 \"\",'' 식으로 매칭시커야함\n",
    "      + '\" <--이런 것 안됨"
   ]
  },
  {
   "cell_type": "markdown",
   "id": "476e4a2b-5940-41df-998c-2c02c865e1ae",
   "metadata": {},
   "source": [
    "page 89 확인, syntaxerror는 잘못 입력한거 문법에 안맞게"
   ]
  },
  {
   "cell_type": "code",
   "execution_count": 9,
   "id": "db10f64a-d9dd-42c9-9a6d-172bb25ecdfc",
   "metadata": {},
   "outputs": [
    {
     "name": "stdout",
     "output_type": "stream",
     "text": [
      "\"안녕하세요\"라고 말했습니다.\n"
     ]
    }
   ],
   "source": [
    "print('\"안녕하세요\"라고 말했습니다.')"
   ]
  },
  {
   "cell_type": "markdown",
   "id": "ca1358e7-1bf6-4526-a72c-333c6c6489ff",
   "metadata": {},
   "source": [
    "## 이스케이스 문자\n",
    "- \\n : 줄바꿈\n",
    "- \\t : 탭\n",
    "- \\\\ : 역슬래시(\\)를 의미합니다."
   ]
  },
  {
   "cell_type": "code",
   "execution_count": 11,
   "id": "1b6b5779-fe38-4135-a953-150492e7342f",
   "metadata": {},
   "outputs": [
    {
     "name": "stdout",
     "output_type": "stream",
     "text": [
      "안녕하세요\n",
      "안녕하세요\n"
     ]
    }
   ],
   "source": [
    "print(\"안녕하세요\\n안녕하세요\")"
   ]
  },
  {
   "cell_type": "code",
   "execution_count": 12,
   "id": "7b8f127e-6ae4-44bd-a29a-ab9dde9a2a39",
   "metadata": {},
   "outputs": [
    {
     "name": "stdout",
     "output_type": "stream",
     "text": [
      "안녕\t안녕하세요\n"
     ]
    }
   ],
   "source": [
    "print(\"안녕\\t안녕하세요\")"
   ]
  },
  {
   "cell_type": "markdown",
   "id": "6bd00ece-3c7e-47c9-ae72-8c4014d8df65",
   "metadata": {},
   "source": [
    " ## 문자열 연산자 (중요)\n",
    "- 자주 사용함\n",
    "- 사칙연산 중에서 덧셈과 곱셈 사용 가능"
   ]
  },
  {
   "cell_type": "code",
   "execution_count": 13,
   "id": "186fa906-9cd9-4d1b-bc1c-42545bdeb7f3",
   "metadata": {},
   "outputs": [
    {
     "name": "stdout",
     "output_type": "stream",
     "text": [
      "4\n",
      "3\n",
      "18\n",
      "0.5\n"
     ]
    }
   ],
   "source": [
    "print(2+2)\n",
    "print(5-2)\n",
    "print(6*3)\n",
    "print(3/6)"
   ]
  },
  {
   "cell_type": "code",
   "execution_count": 14,
   "id": "3a63e0ef-f1d0-4b99-b851-6149b4e8b93a",
   "metadata": {},
   "outputs": [
    {
     "name": "stdout",
     "output_type": "stream",
     "text": [
      "안녕하세요\n"
     ]
    }
   ],
   "source": [
    "print(\"안녕\" + \"하세요\")"
   ]
  },
  {
   "cell_type": "code",
   "execution_count": 15,
   "id": "93733601-fa57-495a-89c7-d5829e5c3602",
   "metadata": {},
   "outputs": [
    {
     "name": "stdout",
     "output_type": "stream",
     "text": [
      "안녕하세요\n"
     ]
    }
   ],
   "source": [
    "var1 = \"안녕\"\n",
    "var2 = \"하세요\"\n",
    "\n",
    "result = var1 + var2\n",
    "print(result)"
   ]
  },
  {
   "cell_type": "code",
   "execution_count": 16,
   "id": "871ac670-dad3-4b48-90ae-cf19789ab7cf",
   "metadata": {},
   "outputs": [
    {
     "name": "stdout",
     "output_type": "stream",
     "text": [
      "안녕안녕안녕안녕안녕안녕안녕안녕안녕안녕\n"
     ]
    }
   ],
   "source": [
    "result2 = var1 * 10\n",
    "print(result2)"
   ]
  },
  {
   "cell_type": "code",
   "execution_count": 17,
   "id": "5dba821c-f892-4544-94bb-049d8c8694af",
   "metadata": {},
   "outputs": [
    {
     "name": "stdout",
     "output_type": "stream",
     "text": [
      "큰따옴표 세개 치고 시작하면\n",
      "엔터 누르는 곳마다 줄 ㅇ ㅣ바껴서\n",
      "출력시킬 수 있다고\n",
      "합니다.\n"
     ]
    }
   ],
   "source": [
    "print(\"\"\"큰따옴표 세개 치고 시작하면\n",
    "엔터 누르는 곳마다 줄 ㅇ ㅣ바껴서\n",
    "출력시킬 수 있다고\n",
    "합니다.\"\"\")"
   ]
  },
  {
   "cell_type": "code",
   "execution_count": 1,
   "id": "32184238-673a-4cf7-9d16-f754b4b6744e",
   "metadata": {},
   "outputs": [
    {
     "name": "stdout",
     "output_type": "stream",
     "text": [
      "1안녕\n"
     ]
    }
   ],
   "source": [
    "num1 = \"1\"\n",
    "var1 = \"안녕\"\n",
    "resurt = num1 + var1\n",
    "print(resurt)"
   ]
  },
  {
   "cell_type": "code",
   "execution_count": 2,
   "id": "5ab7b965-19ae-4a89-b7d9-17461ed943dc",
   "metadata": {},
   "outputs": [
    {
     "name": "stdout",
     "output_type": "stream",
     "text": [
      "1안녕\n"
     ]
    }
   ],
   "source": [
    "num1 = 1\n",
    "var1 = \"안녕\"\n",
    "resurt = str(num1) + var1\n",
    "print(resurt)"
   ]
  },
  {
   "cell_type": "code",
   "execution_count": 3,
   "id": "5b3fa8b6-1c21-4130-980f-1c33d48a23d5",
   "metadata": {},
   "outputs": [
    {
     "name": "stdout",
     "output_type": "stream",
     "text": [
      "5\n"
     ]
    }
   ],
   "source": [
    "num3 = \"3\"\n",
    "var2 = 2\n",
    "resurt = int(num3) + var2\n",
    "print(resurt)"
   ]
  },
  {
   "cell_type": "markdown",
   "id": "075e9de1-c1b4-40f8-ab5e-0903e2ad5945",
   "metadata": {},
   "source": [
    "## 문자 선택 연산자(인덱싱) : []\n",
    "- 리스트, 튜플 등등 원리는 동일"
   ]
  },
  {
   "cell_type": "code",
   "execution_count": 5,
   "id": "49cc7108-4017-46fb-bc1d-baa96eb67c4d",
   "metadata": {},
   "outputs": [
    {
     "name": "stdout",
     "output_type": "stream",
     "text": [
      "안\n",
      "녕\n",
      "세\n"
     ]
    }
   ],
   "source": [
    "var1 = \"안녕하세요\"\n",
    "print(var1[0])\n",
    "print(var1[1])\n",
    "print(var1[3])"
   ]
  },
  {
   "cell_type": "code",
   "execution_count": 13,
   "id": "00e0d656-3714-49fd-8c7b-8c989d36275d",
   "metadata": {},
   "outputs": [
    {
     "name": "stdout",
     "output_type": "stream",
     "text": [
      ",  t\n",
      ", pyt\n",
      "! !\n"
     ]
    }
   ],
   "source": [
    "var1 = \"Hello, python!!\"\n",
    "print(var1[5:7], var1[9])\n",
    "print(var1[5:10]) #인덱스번호는 마지막번호는 안나온다\n",
    "print(var1[-1],var1[-2])"
   ]
  },
  {
   "cell_type": "markdown",
   "id": "cca970c7-0a6a-4600-9f65-a9191104fab5",
   "metadata": {},
   "source": [
    "## 문자열 범위 선택(슬라이싱) [:]\n",
    "- 리스트, 튜플 등 자료형과 원리 동일"
   ]
  },
  {
   "cell_type": "code",
   "execution_count": 21,
   "id": "20b3b886-ec51-4607-9325-b34c3d71c923",
   "metadata": {},
   "outputs": [
    {
     "name": "stdout",
     "output_type": "stream",
     "text": [
      "녕 반갑\n",
      " 반갑다\n",
      "녕 반갑다!\n",
      "안녕 반\n"
     ]
    }
   ],
   "source": [
    "       # 01 23 4 5\n",
    "var1 = \"안녕 반갑다!\"\n",
    "print(var1[1:5])\n",
    "print(var1[-5:-1])\n",
    "print(var1[1:])\n",
    "print(var1[:4])"
   ]
  },
  {
   "cell_type": "code",
   "execution_count": 22,
   "id": "8ac4ad83-8e3a-4847-b715-6cffe6665f74",
   "metadata": {},
   "outputs": [
    {
     "name": "stdout",
     "output_type": "stream",
     "text": [
      "7\n"
     ]
    }
   ],
   "source": [
    "print(len(var1)) #전체 문자열 길이"
   ]
  },
  {
   "cell_type": "code",
   "execution_count": 24,
   "id": "ed931678-fd01-420b-bd20-c7e06dba02ae",
   "metadata": {},
   "outputs": [
    {
     "name": "stdout",
     "output_type": "stream",
     "text": [
      "abababababababababab\n"
     ]
    }
   ],
   "source": [
    "var1 = \"abababababababababab\"\n",
    "print(var1[0:])"
   ]
  },
  {
   "cell_type": "code",
   "execution_count": 25,
   "id": "36894f37-bb7f-4acc-9adf-1eef1be70b01",
   "metadata": {},
   "outputs": [
    {
     "name": "stdout",
     "output_type": "stream",
     "text": [
      "aaaaaaaaaa\n"
     ]
    }
   ],
   "source": [
    "var1 = \"abababababababababab\"\n",
    "print(var1[0::2]) #두칸건너서 가져오겠다"
   ]
  },
  {
   "cell_type": "code",
   "execution_count": 26,
   "id": "c1948c02-c84b-455b-80d8-8b2bae40e78e",
   "metadata": {},
   "outputs": [
    {
     "name": "stdout",
     "output_type": "stream",
     "text": [
      "bbbbbbbbbb\n"
     ]
    }
   ],
   "source": [
    "var1 = \"abababababababababab\"\n",
    "print(var1[1::2])"
   ]
  },
  {
   "cell_type": "markdown",
   "id": "4a776604-6de7-479c-a9ce-84c28241c4a6",
   "metadata": {},
   "source": [
    "# 자료형과 숫자\n"
   ]
  },
  {
   "cell_type": "markdown",
   "id": "64586abe-7d41-4783-9268-d9829fdc5d30",
   "metadata": {},
   "source": [
    "# 지수표현"
   ]
  },
  {
   "cell_type": "code",
   "execution_count": 27,
   "id": "fefe5c8d-64a9-4f51-b85a-f9d956e2a07a",
   "metadata": {},
   "outputs": [
    {
     "data": {
      "text/plain": [
       "52.273"
      ]
     },
     "execution_count": 27,
     "metadata": {},
     "output_type": "execute_result"
    }
   ],
   "source": [
    "0.52273e2"
   ]
  },
  {
   "cell_type": "code",
   "execution_count": 28,
   "id": "ecaf4cf1-80c7-45a5-addc-170b3ad0a572",
   "metadata": {},
   "outputs": [
    {
     "data": {
      "text/plain": [
       "0.0052273"
      ]
     },
     "execution_count": 28,
     "metadata": {},
     "output_type": "execute_result"
    }
   ],
   "source": [
    "0.52273e-2"
   ]
  },
  {
   "cell_type": "markdown",
   "id": "c14af8e5-0975-499a-b112-84a3a8d7a9df",
   "metadata": {},
   "source": [
    "# 사칙연산"
   ]
  },
  {
   "cell_type": "code",
   "execution_count": 32,
   "id": "c065a54c-ff02-4874-97a6-eeb429712549",
   "metadata": {},
   "outputs": [
    {
     "data": {
      "text/plain": [
       "2.0"
      ]
     },
     "execution_count": 32,
     "metadata": {},
     "output_type": "execute_result"
    }
   ],
   "source": [
    "6/3 #실수로 연산됨"
   ]
  },
  {
   "cell_type": "code",
   "execution_count": 30,
   "id": "99cefdb2-f59d-47c2-96e5-5cebb7eb2b01",
   "metadata": {},
   "outputs": [
    {
     "data": {
      "text/plain": [
       "1"
      ]
     },
     "execution_count": 30,
     "metadata": {},
     "output_type": "execute_result"
    }
   ],
   "source": [
    "3 // 2 #나누기 연산자"
   ]
  },
  {
   "cell_type": "code",
   "execution_count": 31,
   "id": "03a39ec6-e5c4-444f-8ede-692a5fb05780",
   "metadata": {},
   "outputs": [
    {
     "data": {
      "text/plain": [
       "2"
      ]
     },
     "execution_count": 31,
     "metadata": {},
     "output_type": "execute_result"
    }
   ],
   "source": [
    "5 % 3 #나머지 연산자"
   ]
  },
  {
   "cell_type": "code",
   "execution_count": 33,
   "id": "338f6bf5-925e-4e17-9255-b6e4a153d56d",
   "metadata": {},
   "outputs": [
    {
     "data": {
      "text/plain": [
       "9"
      ]
     },
     "execution_count": 33,
     "metadata": {},
     "output_type": "execute_result"
    }
   ],
   "source": [
    "3 ** 2"
   ]
  },
  {
   "cell_type": "code",
   "execution_count": 37,
   "id": "5973a314-136c-412b-889d-6c2aab315a1c",
   "metadata": {},
   "outputs": [
    {
     "name": "stdout",
     "output_type": "stream",
     "text": [
      "160\n"
     ]
    }
   ],
   "source": [
    "number = 100\n",
    "number += 10\n",
    "number += 20\n",
    "number += 30\n",
    "print(number)"
   ]
  },
  {
   "cell_type": "markdown",
   "id": "1697b222-b563-4b45-811c-cc51ea9ace03",
   "metadata": {},
   "source": [
    "# input()"
   ]
  },
  {
   "cell_type": "code",
   "execution_count": 4,
   "id": "84ef88af-79a1-4ec1-87ee-b57a54a48bda",
   "metadata": {},
   "outputs": [
    {
     "name": "stdin",
     "output_type": "stream",
     "text": [
      "숫자를 입력하세요!! 1\n",
      "숫자를 입력하세요!! 2\n"
     ]
    },
    {
     "name": "stdout",
     "output_type": "stream",
     "text": [
      "<class 'str'>\n",
      "3\n"
     ]
    }
   ],
   "source": [
    "num1 = input(\"숫자를 입력하세요!!\")\n",
    "num2 = input(\"숫자를 입력하세요!!\")\n",
    "\n",
    "print(type(num1))\n",
    "\n",
    "result = int(num1) + int(num2)\n",
    "print(result)"
   ]
  },
  {
   "cell_type": "code",
   "execution_count": 5,
   "id": "2b4f868f-d25d-4549-b855-160439d86aaf",
   "metadata": {},
   "outputs": [
    {
     "name": "stdout",
     "output_type": "stream",
     "text": [
      "52\n",
      "52.193\n"
     ]
    }
   ],
   "source": [
    "num1 = \"52\"\n",
    "num2 = \"52.193\"\n",
    "\n",
    "print(int(num1))\n",
    "print(float(num2))"
   ]
  },
  {
   "cell_type": "code",
   "execution_count": 9,
   "id": "179bb6bd-b503-41bd-9146-699d5476e8e2",
   "metadata": {},
   "outputs": [
    {
     "name": "stdout",
     "output_type": "stream",
     "text": [
      "52\n"
     ]
    }
   ],
   "source": [
    "print(int(float(num2)))"
   ]
  },
  {
   "cell_type": "markdown",
   "id": "d723b41b-3968-4d0c-9911-d4d995395b46",
   "metadata": {},
   "source": [
    "- \"52.193\"처럼 소숫점이 있는 문자열은 바로 정수 변환이 안됨(주의)\n",
    "      문자열 ==> 실수형 ==> 정수형"
   ]
  },
  {
   "cell_type": "code",
   "execution_count": 14,
   "id": "c7626087-5a41-4cd1-afb6-a45fd70eb039",
   "metadata": {},
   "outputs": [
    {
     "name": "stdout",
     "output_type": "stream",
     "text": [
      "나의 이름은 홍길동입니다. 나이는 30입니다.\n"
     ]
    }
   ],
   "source": [
    ">>> name = '홍길동'\n",
    ">>> age = 30\n",
    ">>> print(f'나의 이름은 {name}입니다. 나이는 {age}입니다.')"
   ]
  },
  {
   "cell_type": "markdown",
   "id": "24684de2-8369-4e60-9c3a-b9fd1296ca92",
   "metadata": {},
   "source": [
    "# 문자열 포멧팅\n",
    "- 강사는 f-문자열 좋아함\n",
    "- `f'문자열{표현식}문자열'`"
   ]
  },
  {
   "cell_type": "code",
   "execution_count": 15,
   "id": "3013a7a0-5ae4-495a-8408-efafacfafc83",
   "metadata": {},
   "outputs": [
    {
     "data": {
      "text/plain": [
       "'10'"
      ]
     },
     "execution_count": 15,
     "metadata": {},
     "output_type": "execute_result"
    }
   ],
   "source": [
    "# {} format() 함수 방식\n",
    "num1 = 10\n",
    "\"{}\".format(num1)"
   ]
  },
  {
   "cell_type": "code",
   "execution_count": 16,
   "id": "d2c1ba61-46b5-49fd-9e93-0072c5d50477",
   "metadata": {},
   "outputs": [
    {
     "data": {
      "text/plain": [
       "'10'"
      ]
     },
     "execution_count": 16,
     "metadata": {},
     "output_type": "execute_result"
    }
   ],
   "source": [
    "num1= 10\n",
    "f'{num1}'"
   ]
  },
  {
   "cell_type": "markdown",
   "id": "3a39b821-100e-4067-b7ab-78a835e20170",
   "metadata": {},
   "source": [
    "# 문자열의 내장 메서드\n",
    "-공식문서 꼭 확인\n",
    "\n",
    "-공식문서 찾아보고 chat gpt의 도움을 받아 예제코드도 받아서 코딩 돌려보고 하는 것이 좋다"
   ]
  },
  {
   "cell_type": "code",
   "execution_count": 18,
   "id": "eed73149-fe73-49bd-9f87-7b7602171923",
   "metadata": {},
   "outputs": [
    {
     "name": "stdout",
     "output_type": "stream",
     "text": [
      "'1234a5'는 숫자로만 이루어져 있지 않습니다.\n"
     ]
    }
   ],
   "source": [
    "s = \"1234a5\"\n",
    "if s.isdigit():\n",
    "    print(f\"'{s}'는 모두 숫자로 이루어져 있습니다.\")\n",
    "else:\n",
    "    print(f\"'{s}'는 숫자로만 이루어져 있지 않습니다.\")\n"
   ]
  },
  {
   "cell_type": "code",
   "execution_count": 19,
   "id": "0fd26f03-139a-4409-b867-b9f2e0a0edc2",
   "metadata": {},
   "outputs": [
    {
     "name": "stdout",
     "output_type": "stream",
     "text": [
      "Original: '42', zfilled: '00042'\n"
     ]
    }
   ],
   "source": [
    "s = \"42\"\n",
    "filled_s = s.zfill(5)\n",
    "print(f\"Original: '{s}', zfilled: '{filled_s}'\")\n"
   ]
  },
  {
   "cell_type": "markdown",
   "id": "ec79241e-c97f-434e-aff2-8e05a42b92ad",
   "metadata": {},
   "source": [
    "# 8교시에 할 것\n",
    "문자열 내장 메서드 익히기\n",
    "f문자열 익히기"
   ]
  },
  {
   "cell_type": "markdown",
   "id": "a308f372-b94d-44d3-889c-9bac4a5d69a7",
   "metadata": {},
   "source": [
    "# in 연산자\n",
    "    - 결과값이 true or false로 나옴"
   ]
  },
  {
   "cell_type": "code",
   "execution_count": 22,
   "id": "c8d382b8-7752-4478-b39a-72fa52f9e094",
   "metadata": {},
   "outputs": [
    {
     "name": "stdout",
     "output_type": "stream",
     "text": [
      "True\n"
     ]
    }
   ],
   "source": [
    "print(\"안녕\" in \"안녕하세요\")"
   ]
  },
  {
   "cell_type": "code",
   "execution_count": 23,
   "id": "513bf071-3d97-48d5-93dc-49ffb7144c3d",
   "metadata": {},
   "outputs": [
    {
     "name": "stdout",
     "output_type": "stream",
     "text": [
      "True\n"
     ]
    }
   ],
   "source": [
    "print(\"안\" in \"안녕하세요\")"
   ]
  },
  {
   "cell_type": "code",
   "execution_count": 24,
   "id": "440c243e-cd59-44a5-9748-bb72747b082b",
   "metadata": {},
   "outputs": [
    {
     "name": "stdout",
     "output_type": "stream",
     "text": [
      "False\n"
     ]
    }
   ],
   "source": [
    "print(\"안녕히\" in \"안녕하세요\")"
   ]
  },
  {
   "cell_type": "code",
   "execution_count": 26,
   "id": "50aed45f-b2cc-4b9f-9cc5-fda52315b650",
   "metadata": {},
   "outputs": [
    {
     "name": "stdout",
     "output_type": "stream",
     "text": [
      "['10', '20', '30', '40', '50']\n"
     ]
    }
   ],
   "source": [
    "a = \"10 20 30 40 50\".split(\" \")\n",
    "print(a)"
   ]
  },
  {
   "cell_type": "code",
   "execution_count": 27,
   "id": "225198bb-3ce7-43d2-abbe-c7911585b28a",
   "metadata": {},
   "outputs": [
    {
     "name": "stdout",
     "output_type": "stream",
     "text": [
      "['10', '20', '30', '40', '50']\n"
     ]
    }
   ],
   "source": [
    "a = \"10 20 30 40 50\".split(sep = \" \") #위와 같은 것임\n",
    "print(a)"
   ]
  },
  {
   "cell_type": "markdown",
   "id": "5d89c0ce-622f-4865-9ac1-17e56f9ac9cc",
   "metadata": {},
   "source": [
    "## 리스트와 튜플"
   ]
  },
  {
   "cell_type": "code",
   "execution_count": 32,
   "id": "e4520b61-93f8-40fd-94ff-26928f74bac4",
   "metadata": {},
   "outputs": [
    {
     "name": "stdout",
     "output_type": "stream",
     "text": [
      "[]\n",
      "[]\n",
      "[1, 2, 3]\n",
      "['a', 'b', 'c']\n",
      "[1, 2, 'a', None, True]\n",
      "[1, 2, 3, [1, 2, 'Hello Python!!!', None, True]]\n"
     ]
    }
   ],
   "source": [
    "a = list()\n",
    "b = []\n",
    "c = [1, 2, 3]\n",
    "d = [\"a\", \"b\", \"c\"]\n",
    "e = [1, 2, \"a\", None, True]\n",
    "f = [1, 2, 3, [1, 2, \"Hello Python!!!\", None, True]]  # list 안에 list Nested list, 중첩리스트\n",
    "\n",
    "print(a)\n",
    "print(b)\n",
    "print(c)\n",
    "print(d)\n",
    "print(e)\n",
    "print(f)"
   ]
  },
  {
   "cell_type": "code",
   "execution_count": 34,
   "id": "ce761f5f-3320-4a75-9c01-6a8a7501d2cb",
   "metadata": {},
   "outputs": [
    {
     "name": "stdout",
     "output_type": "stream",
     "text": [
      "[1, 2, 'Hello Python!!!', None, True]\n"
     ]
    }
   ],
   "source": [
    "print(f[3])"
   ]
  },
  {
   "cell_type": "code",
   "execution_count": 39,
   "id": "5dc3fbd5-6721-4597-9424-93b7de9a6e0b",
   "metadata": {},
   "outputs": [
    {
     "data": {
      "text/plain": [
       "'ython!!!'"
      ]
     },
     "execution_count": 39,
     "metadata": {},
     "output_type": "execute_result"
    }
   ],
   "source": [
    "f_a = f[3]\n",
    "f_a[2]\n",
    "text = f_a[2]\n",
    "text[7:]"
   ]
  },
  {
   "cell_type": "code",
   "execution_count": 40,
   "id": "18b47f18-875a-4c34-bf7c-7de56101a0d8",
   "metadata": {},
   "outputs": [
    {
     "data": {
      "text/plain": [
       "[1, 2, 'Hi,,,, !! Python !!! Hello, ', None, True]"
      ]
     },
     "execution_count": 40,
     "metadata": {},
     "output_type": "execute_result"
    }
   ],
   "source": [
    "g = [1, 2, 3, 4, 5, 6, [1, 2, \"Hi,,,, !! Python !!! Hello, \", None, True]]\n",
    "g[6]"
   ]
  },
  {
   "cell_type": "code",
   "execution_count": 41,
   "id": "c9e20a73-4b99-4d5d-bfbd-308a8813a4b5",
   "metadata": {},
   "outputs": [
    {
     "data": {
      "text/plain": [
       "'Hi,,,, !! Python !!! Hello, '"
      ]
     },
     "execution_count": 41,
     "metadata": {},
     "output_type": "execute_result"
    }
   ],
   "source": [
    "g_a = g[6]\n",
    "g_a[2]"
   ]
  },
  {
   "cell_type": "code",
   "execution_count": 46,
   "id": "a6c7fa4e-e425-4f0d-a292-8869bdba1be8",
   "metadata": {},
   "outputs": [
    {
     "name": "stdout",
     "output_type": "stream",
     "text": [
      "10\n"
     ]
    }
   ],
   "source": [
    "g_b = g_a[2]\n",
    "g_f = g_b.find(\"Python\")\n",
    "print(g_f)"
   ]
  },
  {
   "cell_type": "code",
   "execution_count": 47,
   "id": "3152e188-4cab-49e9-a222-90d47bb60a28",
   "metadata": {},
   "outputs": [
    {
     "data": {
      "text/plain": [
       "'P'"
      ]
     },
     "execution_count": 47,
     "metadata": {},
     "output_type": "execute_result"
    }
   ],
   "source": [
    "g_b[10]"
   ]
  },
  {
   "cell_type": "code",
   "execution_count": 48,
   "id": "17eb6a9b-86fc-4f7b-bc41-7dbd59c8def3",
   "metadata": {},
   "outputs": [
    {
     "data": {
      "text/plain": [
       "'Python '"
      ]
     },
     "execution_count": 48,
     "metadata": {},
     "output_type": "execute_result"
    }
   ],
   "source": [
    "g_b[10:17]"
   ]
  },
  {
   "cell_type": "code",
   "execution_count": 49,
   "id": "63b4f071-2137-4d96-bfff-36acb72e2a96",
   "metadata": {},
   "outputs": [
    {
     "data": {
      "text/plain": [
       "'Python'"
      ]
     },
     "execution_count": 49,
     "metadata": {},
     "output_type": "execute_result"
    }
   ],
   "source": [
    "g_b[10:16]"
   ]
  },
  {
   "cell_type": "code",
   "execution_count": 55,
   "id": "9638741f-0507-4650-81ff-6494ad439495",
   "metadata": {},
   "outputs": [
    {
     "name": "stdout",
     "output_type": "stream",
     "text": [
      "Python\n"
     ]
    }
   ],
   "source": [
    "g = [1, 2, 3, 4, 5, 6, [1, 2, \"Hi,,,, !! Python !!! Hello, \", None, True]]\n",
    "result = g[6][2][10:16]\n",
    "print(result)"
   ]
  },
  {
   "cell_type": "code",
   "execution_count": null,
   "id": "b5fa7fdd-995a-46e9-b634-5c63c7353173",
   "metadata": {},
   "outputs": [],
   "source": []
  }
 ],
 "metadata": {
  "kernelspec": {
   "display_name": "Python 3 (ipykernel)",
   "language": "python",
   "name": "python3"
  },
  "language_info": {
   "codemirror_mode": {
    "name": "ipython",
    "version": 3
   },
   "file_extension": ".py",
   "mimetype": "text/x-python",
   "name": "python",
   "nbconvert_exporter": "python",
   "pygments_lexer": "ipython3",
   "version": "3.11.7"
  }
 },
 "nbformat": 4,
 "nbformat_minor": 5
}
