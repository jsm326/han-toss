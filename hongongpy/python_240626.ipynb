{
 "cells": [
  {
   "cell_type": "markdown",
   "id": "9f7c3b46-5f86-4db5-856e-a6d1e69a8a9b",
   "metadata": {},
   "source": [
    "# 목차1 - 식별자\n",
    "- 식별자에 대해 배웁니다."
   ]
  },
  {
   "cell_type": "code",
   "execution_count": 1,
   "id": "f96afda9-fed8-40bd-88e3-291ceb68c5de",
   "metadata": {},
   "outputs": [
    {
     "data": {
      "text/plain": [
       "2"
      ]
     },
     "execution_count": 1,
     "metadata": {},
     "output_type": "execute_result"
    }
   ],
   "source": [
    "1+1\n"
   ]
  },
  {
   "cell_type": "markdown",
   "id": "7ee34a76-4006-4ca8-a10e-6a5784c7f0f1",
   "metadata": {
    "jp-MarkdownHeadingCollapsed": true
   },
   "source": [
    "## 스네이크 케이스와 캐멀 케이스\n",
    "- 각 프로그래밍 언어마다 양식\n",
    "- 클래스를 정의할 때, 앞문자가 대분자여야 함 / CamlCase\n",
    "- 함수를 정의할 때, snake_case 방식으로 사용해라"
   ]
  },
  {
   "cell_type": "markdown",
   "id": "4aebf7f3-7960-4b92-b3db-ceb26dfab9e8",
   "metadata": {},
   "source": [
    "# 목차2 - 식별자 구분하기"
   ]
  },
  {
   "cell_type": "markdown",
   "id": "0fbe1001-6527-49a8-bfac-d39fee242fa1",
   "metadata": {},
   "source": [
    "print() # 소문자\n",
    "list() # 소문자\n",
    "class Animal : # 대문자\n",
    "BeautifulSoup() # 대문자/ CamelCase"
   ]
  },
  {
   "cell_type": "markdown",
   "id": "23a50267-64cc-471e-8279-d54eb6730a61",
   "metadata": {},
   "source": [
    "# 입력과 출력\n",
    "- input() : 입력\n",
    "- print() : 출력"
   ]
  },
  {
   "cell_type": "code",
   "execution_count": 2,
   "id": "29f7a602-9cb9-45d1-b053-54b236012b40",
   "metadata": {},
   "outputs": [
    {
     "name": "stdin",
     "output_type": "stream",
     "text": [
      "아무거나입력하 \n"
     ]
    },
    {
     "name": "stdout",
     "output_type": "stream",
     "text": [
      "\n"
     ]
    }
   ],
   "source": [
    "var1 = input(\"아무거나입력하\")\n",
    "print(var1)"
   ]
  },
  {
   "cell_type": "code",
   "execution_count": 3,
   "id": "78da7f11-cd38-4b02-8e77-d2cf74343e25",
   "metadata": {},
   "outputs": [
    {
     "name": "stdout",
     "output_type": "stream",
     "text": [
      "# 하나만 출력합니다\n",
      "\n",
      "10 20 30\n"
     ]
    }
   ],
   "source": [
    "print(\"# 하나만 출력합니다\")\n",
    "print()\n",
    "print(10, 20, 30)"
   ]
  },
  {
   "cell_type": "code",
   "execution_count": 4,
   "id": "38c744d2-70ad-481d-a82c-1f6a26c23e11",
   "metadata": {},
   "outputs": [
    {
     "name": "stdout",
     "output_type": "stream",
     "text": [
      "#여러 개를 출력합니다.\n",
      "10 20 30 40 50\n",
      "안녕하세요 저의 이름은 장성민입니다!\n",
      "\n"
     ]
    }
   ],
   "source": [
    "#여러 개를 출력합니다.\n",
    "print(\"#여러 개를 출력합니다.\")\n",
    "print(10, 20, 30, 40, 50)\n",
    "print(\"안녕하세요\", \"저의\", \"이름은\", \"장성민입니다!\")\n",
    "print()"
   ]
  },
  {
   "cell_type": "code",
   "execution_count": 5,
   "id": "e6230a6c-f890-4778-8f64-4c42eae01840",
   "metadata": {},
   "outputs": [
    {
     "name": "stdout",
     "output_type": "stream",
     "text": [
      "아무것도출력하지않습니다\n",
      "---확인전용선------\n",
      "\n",
      "\n",
      "---확인전용선------\n"
     ]
    }
   ],
   "source": [
    "#아무것도 입력하지 않으면 단순하게 줄바꿈합니다.\n",
    "print(\"아무것도출력하지않습니다\")\n",
    "print(\"---확인전용선------\")\n",
    "print()\n",
    "print()\n",
    "3print(\"---확인전용선------\")"
   ]
  },
  {
   "cell_type": "markdown",
   "id": "2f6af62f-2f58-41b7-aa7e-4ec200ff0b72",
   "metadata": {},
   "source": [
    "#자료형과 문자열\n",
    "-숫자 : 물건의 가격\n",
    "-문자 : 메시지 내용\n",
    "-논리 / True or False\n",
    "class는 설명서 즉, 설명서를 찾아내야함 python str documetation 이런식으로 검색"
   ]
  },
  {
   "cell_type": "code",
   "execution_count": 6,
   "id": "f3f94b70-5682-4358-b511-a63b4b9f98da",
   "metadata": {},
   "outputs": [
    {
     "name": "stdout",
     "output_type": "stream",
     "text": [
      "<class 'str'>\n"
     ]
    }
   ],
   "source": [
    "print(type(\"안녕하세여\"))"
   ]
  },
  {
   "cell_type": "code",
   "execution_count": 7,
   "id": "428a652d-ea66-4930-a9e0-9b141e310562",
   "metadata": {},
   "outputs": [
    {
     "name": "stdout",
     "output_type": "stream",
     "text": [
      "<class 'pandas.core.frame.DataFrame'>\n"
     ]
    },
    {
     "name": "stderr",
     "output_type": "stream",
     "text": [
      "C:\\Users\\user\\AppData\\Local\\Temp\\ipykernel_11780\\4176926866.py:1: DeprecationWarning: \n",
      "Pyarrow will become a required dependency of pandas in the next major release of pandas (pandas 3.0),\n",
      "(to allow more performant data types, such as the Arrow string type, and better interoperability with other libraries)\n",
      "but was not found to be installed on your system.\n",
      "If this would cause problems for you,\n",
      "please provide us feedback at https://github.com/pandas-dev/pandas/issues/54466\n",
      "        \n",
      "  import pandas as pd\n"
     ]
    }
   ],
   "source": [
    "import pandas as pd \n",
    "df = pd.DataFrame({\n",
    "    'col1' : [1, 2, 3], \n",
    "    'col2' : [1, 2, 3], \n",
    "})\n",
    "\n",
    "print(type(df))"
   ]
  },
  {
   "cell_type": "markdown",
   "id": "8978a98c-afa1-4fbe-bb17-89ffd2ac414b",
   "metadata": {},
   "source": [
    "## 문자열 만들기\n",
    "- 큰 따옴표 방식 / 작은 따옴표 방식\n",
    "- 결론부터 말하면, 지금은 크게 구분하지 않는다.\n",
    "- 주의해야 하는 것은 \"\",'' 식으로 매칭시커야함\n",
    "      + '\" <--이런 것 안됨"
   ]
  },
  {
   "cell_type": "markdown",
   "id": "476e4a2b-5940-41df-998c-2c02c865e1ae",
   "metadata": {},
   "source": [
    "page 89 확인, syntaxerror는 잘못 입력한거 문법에 안맞게"
   ]
  },
  {
   "cell_type": "code",
   "execution_count": 9,
   "id": "db10f64a-d9dd-42c9-9a6d-172bb25ecdfc",
   "metadata": {},
   "outputs": [
    {
     "name": "stdout",
     "output_type": "stream",
     "text": [
      "\"안녕하세요\"라고 말했습니다.\n"
     ]
    }
   ],
   "source": [
    "print('\"안녕하세요\"라고 말했습니다.')"
   ]
  },
  {
   "cell_type": "markdown",
   "id": "ca1358e7-1bf6-4526-a72c-333c6c6489ff",
   "metadata": {},
   "source": [
    "## 이스케이스 문자\n",
    "- \\n : 줄바꿈\n",
    "- \\t : 탭\n",
    "- \\\\ : 역슬래시(\\)를 의미합니다."
   ]
  },
  {
   "cell_type": "code",
   "execution_count": 11,
   "id": "1b6b5779-fe38-4135-a953-150492e7342f",
   "metadata": {},
   "outputs": [
    {
     "name": "stdout",
     "output_type": "stream",
     "text": [
      "안녕하세요\n",
      "안녕하세요\n"
     ]
    }
   ],
   "source": [
    "print(\"안녕하세요\\n안녕하세요\")"
   ]
  },
  {
   "cell_type": "code",
   "execution_count": 12,
   "id": "7b8f127e-6ae4-44bd-a29a-ab9dde9a2a39",
   "metadata": {},
   "outputs": [
    {
     "name": "stdout",
     "output_type": "stream",
     "text": [
      "안녕\t안녕하세요\n"
     ]
    }
   ],
   "source": [
    "print(\"안녕\\t안녕하세요\")"
   ]
  },
  {
   "cell_type": "markdown",
   "id": "6bd00ece-3c7e-47c9-ae72-8c4014d8df65",
   "metadata": {},
   "source": [
    " ## 문자열 연산자 (중요)\n",
    "- 자주 사용함\n",
    "- 사칙연산 중에서 덧셈과 곱셈 사용 가능"
   ]
  },
  {
   "cell_type": "code",
   "execution_count": 13,
   "id": "186fa906-9cd9-4d1b-bc1c-42545bdeb7f3",
   "metadata": {},
   "outputs": [
    {
     "name": "stdout",
     "output_type": "stream",
     "text": [
      "4\n",
      "3\n",
      "18\n",
      "0.5\n"
     ]
    }
   ],
   "source": [
    "print(2+2)\n",
    "print(5-2)\n",
    "print(6*3)\n",
    "print(3/6)"
   ]
  },
  {
   "cell_type": "code",
   "execution_count": 14,
   "id": "3a63e0ef-f1d0-4b99-b851-6149b4e8b93a",
   "metadata": {},
   "outputs": [
    {
     "name": "stdout",
     "output_type": "stream",
     "text": [
      "안녕하세요\n"
     ]
    }
   ],
   "source": [
    "print(\"안녕\" + \"하세요\")"
   ]
  },
  {
   "cell_type": "code",
   "execution_count": 15,
   "id": "93733601-fa57-495a-89c7-d5829e5c3602",
   "metadata": {},
   "outputs": [
    {
     "name": "stdout",
     "output_type": "stream",
     "text": [
      "안녕하세요\n"
     ]
    }
   ],
   "source": [
    "var1 = \"안녕\"\n",
    "var2 = \"하세요\"\n",
    "\n",
    "result = var1 + var2\n",
    "print(result)"
   ]
  },
  {
   "cell_type": "code",
   "execution_count": 16,
   "id": "871ac670-dad3-4b48-90ae-cf19789ab7cf",
   "metadata": {},
   "outputs": [
    {
     "name": "stdout",
     "output_type": "stream",
     "text": [
      "안녕안녕안녕안녕안녕안녕안녕안녕안녕안녕\n"
     ]
    }
   ],
   "source": [
    "result2 = var1 * 10\n",
    "print(result2)"
   ]
  },
  {
   "cell_type": "code",
   "execution_count": 17,
   "id": "5dba821c-f892-4544-94bb-049d8c8694af",
   "metadata": {},
   "outputs": [
    {
     "name": "stdout",
     "output_type": "stream",
     "text": [
      "큰따옴표 세개 치고 시작하면\n",
      "엔터 누르는 곳마다 줄 ㅇ ㅣ바껴서\n",
      "출력시킬 수 있다고\n",
      "합니다.\n"
     ]
    }
   ],
   "source": [
    "print(\"\"\"큰따옴표 세개 치고 시작하면\n",
    "엔터 누르는 곳마다 줄 ㅇ ㅣ바껴서\n",
    "출력시킬 수 있다고\n",
    "합니다.\"\"\")"
   ]
  },
  {
   "cell_type": "code",
   "execution_count": null,
   "id": "32184238-673a-4cf7-9d16-f754b4b6744e",
   "metadata": {},
   "outputs": [],
   "source": []
  }
 ],
 "metadata": {
  "kernelspec": {
   "display_name": "Python 3 (ipykernel)",
   "language": "python",
   "name": "python3"
  },
  "language_info": {
   "codemirror_mode": {
    "name": "ipython",
    "version": 3
   },
   "file_extension": ".py",
   "mimetype": "text/x-python",
   "name": "python",
   "nbconvert_exporter": "python",
   "pygments_lexer": "ipython3",
   "version": "3.11.7"
  }
 },
 "nbformat": 4,
 "nbformat_minor": 5
}
