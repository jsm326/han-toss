{
  "nbformat": 4,
  "nbformat_minor": 0,
  "metadata": {
    "colab": {
      "provenance": []
    },
    "kernelspec": {
      "name": "python3",
      "display_name": "Python 3"
    },
    "language_info": {
      "name": "python"
    }
  },
  "cells": [
    {
      "cell_type": "markdown",
      "source": [
        "## 기초문제 1.\n",
        "- 아래 코드를 정수형으로 변형하세요\n",
        "- 원하는 답 : 3"
      ],
      "metadata": {
        "id": "TZhnX7vf1WsA"
      }
    },
    {
      "cell_type": "code",
      "execution_count": 1,
      "metadata": {
        "colab": {
          "base_uri": "https://localhost:8080/"
        },
        "id": "mQPK1XtH1Qyo",
        "outputId": "88a31e6b-a570-4ab0-e1c0-bec88c2dd0ab"
      },
      "outputs": [
        {
          "output_type": "stream",
          "name": "stdout",
          "text": [
            "3\n"
          ]
        }
      ],
      "source": [
        "a = \"3.14\"\n",
        "print(int(float(a)))"
      ]
    },
    {
      "cell_type": "markdown",
      "source": [
        "## 기초문제 2.\n",
        "- 다음 문자열에서 \"a\"의 값이 몇 개인지 확인하세요."
      ],
      "metadata": {
        "id": "mzAQTYk-1oLM"
      }
    },
    {
      "cell_type": "code",
      "source": [
        "a = \"aaaaabbbbaabababa\"\n",
        "a.count(\"a\")"
      ],
      "metadata": {
        "colab": {
          "base_uri": "https://localhost:8080/"
        },
        "id": "4PY51V5f14ac",
        "outputId": "98ef99d6-4d0c-45da-85dc-34dab916b6d8"
      },
      "execution_count": 2,
      "outputs": [
        {
          "output_type": "execute_result",
          "data": {
            "text/plain": [
              "10"
            ]
          },
          "metadata": {},
          "execution_count": 2
        }
      ]
    },
    {
      "cell_type": "markdown",
      "source": [
        "## 기초문제 3.\n",
        "- 다음과 같은 딕셔너리에서 \"python\"을 추출하세요 (Python 아님)"
      ],
      "metadata": {
        "id": "LvJZ1i9v2Cr7"
      }
    },
    {
      "cell_type": "code",
      "source": [
        "complex_dict = {\n",
        "    \"languages\": {\n",
        "        \"programming\": [\"Python is goood python\", \"Java\", \"C++\"],\n",
        "        \"spoken\": {\n",
        "            \"English\": {\n",
        "                \"native\": True,\n",
        "                \"regions\": [\"US\", \"UK\", \"Canada\"]\n",
        "            },\n",
        "            \"Spanish\": {\n",
        "                \"native\": False,\n",
        "                \"regions\": [\"Spain\", \"Mexico\"]\n",
        "            }\n",
        "        }\n",
        "    },\n",
        "    \"tools\": {\n",
        "        \"development\": [\"IDE\", \"Text Editor\"],\n",
        "        \"testing\": [\"pytest\", \"unittest\"]\n",
        "    }\n",
        "}\n",
        "\n",
        "print(complex_dict)"
      ],
      "metadata": {
        "colab": {
          "base_uri": "https://localhost:8080/"
        },
        "id": "O3q3WeYz2a5M",
        "outputId": "9c72b0e7-66fc-4da1-9fd7-5942210a8287"
      },
      "execution_count": 3,
      "outputs": [
        {
          "output_type": "stream",
          "name": "stdout",
          "text": [
            "{'languages': {'programming': ['Python is goood python', 'Java', 'C++'], 'spoken': {'English': {'native': True, 'regions': ['US', 'UK', 'Canada']}, 'Spanish': {'native': False, 'regions': ['Spain', 'Mexico']}}}, 'tools': {'development': ['IDE', 'Text Editor'], 'testing': ['pytest', 'unittest']}}\n"
          ]
        }
      ]
    },
    {
      "cell_type": "markdown",
      "source": [],
      "metadata": {
        "id": "Wths6bZa2kJv"
      }
    },
    {
      "cell_type": "code",
      "source": [
        "complex_dict['languages']['programming'][0][-6:]"
      ],
      "metadata": {
        "colab": {
          "base_uri": "https://localhost:8080/",
          "height": 35
        },
        "id": "ecSrJKj_2kqM",
        "outputId": "438c25ae-19e3-4a31-f22a-061085afb145"
      },
      "execution_count": 4,
      "outputs": [
        {
          "output_type": "execute_result",
          "data": {
            "text/plain": [
              "'python'"
            ],
            "application/vnd.google.colaboratory.intrinsic+json": {
              "type": "string"
            }
          },
          "metadata": {},
          "execution_count": 4
        }
      ]
    },
    {
      "cell_type": "markdown",
      "source": [
        "## 기초문제 4.\n",
        "- 주어진 데이터 자료형이 Iterable인지 아닌지 확인하는 코드를 if-else문으로 작성하세요.\n",
        "  + 만약, iterable이면 \"반복문 코드 작성\"\n",
        "  + 만약, iterable이 아니면 \"다른 데이터 자료형 찾기\" 출력"
      ],
      "metadata": {
        "id": "nVeHWEEk3AOT"
      }
    },
    {
      "cell_type": "code",
      "source": [
        "from collections.abc import Iterable\n",
        "\n",
        "my_set = {1, 2, 3, 4, 5}\n",
        "print(type(my_set))\n",
        "\n",
        "if isinstance(my_set, Iterable):\n",
        "  print(\"반복문 코드 작성\")\n",
        "else:\n",
        "  print(\"다른 데이터 자료형 찾기\")"
      ],
      "metadata": {
        "colab": {
          "base_uri": "https://localhost:8080/"
        },
        "id": "wLpk9G_jBO2K",
        "outputId": "45e82f6b-f863-489a-f528-ca7a85e3b3c4"
      },
      "execution_count": 5,
      "outputs": [
        {
          "output_type": "stream",
          "name": "stdout",
          "text": [
            "<class 'set'>\n",
            "반복문 코드 작성\n"
          ]
        }
      ]
    },
    {
      "cell_type": "markdown",
      "source": [
        "## 기초문제 5.\n",
        "- 주어진 set 자료형을 활용하여 \"a\"가 들어간 단어만 추출하여 collected_words 리스트로 결과 반환\n",
        "- 그 외의 단어는 others 리스트에 반환"
      ],
      "metadata": {
        "id": "UJlQnwNWCn3b"
      }
    },
    {
      "cell_type": "code",
      "source": [
        "words = {\"apple\", \"banana\", \"cherry\", \"date\", \"elderberry\", \"fig\", \"grape\"}\n",
        "\n",
        "collected_words = []\n",
        "others = []\n",
        "for word in words:\n",
        "    if 'a' in word:\n",
        "      collected_words.append(word)\n",
        "    else:\n",
        "      others.append(word)\n",
        "\n",
        "collected_words, others"
      ],
      "metadata": {
        "colab": {
          "base_uri": "https://localhost:8080/"
        },
        "id": "zT2ll_IBCme0",
        "outputId": "0f2eac3b-dd64-4b5d-b4b9-7daec92e5dd4"
      },
      "execution_count": 6,
      "outputs": [
        {
          "output_type": "execute_result",
          "data": {
            "text/plain": [
              "(['banana', 'grape', 'apple', 'date'], ['fig', 'cherry', 'elderberry'])"
            ]
          },
          "metadata": {},
          "execution_count": 6
        }
      ]
    },
    {
      "cell_type": "markdown",
      "source": [
        "## 기초문제 6.\n",
        "- 위 코드를 List Comprehension으로 구현하세요.\n",
        "- 결과는 동일해야 합니다.\n"
      ],
      "metadata": {
        "id": "-CVEW9DIHcvh"
      }
    },
    {
      "cell_type": "code",
      "source": [
        "words = {\"apple\", \"banana\", \"cherry\", \"date\", \"elderberry\", \"fig\", \"grape\"}\n",
        "\n",
        "collected_words = [word for word in words if 'a' in word]\n",
        "others = [word for word in words if 'a' not in word]\n",
        "\n",
        "collected_words, others"
      ],
      "metadata": {
        "colab": {
          "base_uri": "https://localhost:8080/"
        },
        "id": "joLsI3RRHY63",
        "outputId": "64c5e2a9-5b6f-43d4-fefc-1d83e90e30f3"
      },
      "execution_count": 7,
      "outputs": [
        {
          "output_type": "execute_result",
          "data": {
            "text/plain": [
              "(['banana', 'grape', 'apple', 'date'], ['fig', 'cherry', 'elderberry'])"
            ]
          },
          "metadata": {},
          "execution_count": 7
        }
      ]
    },
    {
      "cell_type": "markdown",
      "source": [
        "# 기초문제 7.\n",
        "- 주어진 자료형을 기반으로 아래와 같이 완성하세요."
      ],
      "metadata": {
        "id": "Kn99kA4SBOUc"
      }
    },
    {
      "cell_type": "code",
      "source": [
        "# 정답\n",
        "# 1 -> a\n",
        "# 2 -> b\n",
        "# 3 -> c\n",
        "# 4 -> d"
      ],
      "metadata": {
        "id": "Wdl9Ts-GJrbV"
      },
      "execution_count": 8,
      "outputs": []
    },
    {
      "cell_type": "code",
      "source": [
        "list1 = [1, 2, 3, 4]\n",
        "list2 = ['a', 'b', 'c', 'd']\n",
        "\n",
        "for num, char in zip(list1, list2):\n",
        "  print(f\"{num} -> {char}\")"
      ],
      "metadata": {
        "colab": {
          "base_uri": "https://localhost:8080/"
        },
        "id": "4JOTIzKjJsVo",
        "outputId": "eeb9f8d8-c353-4037-b93e-0e44d6d0c666"
      },
      "execution_count": 9,
      "outputs": [
        {
          "output_type": "stream",
          "name": "stdout",
          "text": [
            "1 -> a\n",
            "2 -> b\n",
            "3 -> c\n",
            "4 -> d\n"
          ]
        }
      ]
    }
  ]
}