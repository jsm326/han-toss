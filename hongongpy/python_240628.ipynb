{
 "cells": [
  {
   "cell_type": "markdown",
   "id": "e93b4f0c-4c2f-4e3d-af7e-7040e8e4fc8b",
   "metadata": {},
   "source": [
    "## While 반복문"
   ]
  },
  {
   "cell_type": "markdown",
   "id": "1d8c0907-8c8e-4978-b91b-8b0a0abdabd9",
   "metadata": {},
   "source": [
    "while 불 표현식: ### 조건식, True가 되는 조건식을 작성\n",
    "    문장"
   ]
  },
  {
   "cell_type": "markdown",
   "id": "508c06f0-bd2d-4b16-a8af-73ed5cd75d8d",
   "metadata": {},
   "source": [
    "## for 반복문처럼 사용"
   ]
  },
  {
   "cell_type": "markdown",
   "id": "5fe49fab-fda8-43e8-94e4-267182a8228e",
   "metadata": {},
   "source": [
    "## 상태를 기반으로 반복"
   ]
  },
  {
   "cell_type": "code",
   "execution_count": 2,
   "id": "72e0438f-2103-4320-a616-67291e8b4bdd",
   "metadata": {},
   "outputs": [
    {
     "name": "stdout",
     "output_type": "stream",
     "text": [
      "[1, 1]\n"
     ]
    }
   ],
   "source": [
    "list_test = [1, 2, 1, 2]\n",
    "value = 2\n",
    "\n",
    "while value in list_test:\n",
    "    list_test.remove(value)\n",
    "\n",
    "print(list_test)"
   ]
  },
  {
   "cell_type": "markdown",
   "id": "39d35809-4dec-4c1e-91d0-a987cd262993",
   "metadata": {},
   "source": [
    "## 시간을 기반으로 반복하기"
   ]
  },
  {
   "cell_type": "code",
   "execution_count": 3,
   "id": "2b18e450-86aa-4ed6-b9ab-17494ada3d1e",
   "metadata": {},
   "outputs": [
    {
     "data": {
      "text/plain": [
       "1719538010.5719218"
      ]
     },
     "execution_count": 3,
     "metadata": {},
     "output_type": "execute_result"
    }
   ],
   "source": [
    "import time\n",
    "\n",
    "time.time()"
   ]
  },
  {
   "cell_type": "code",
   "execution_count": 5,
   "id": "4df0cc24-c236-4f7f-9997-0fc5114ab8ed",
   "metadata": {},
   "outputs": [
    {
     "name": "stdout",
     "output_type": "stream",
     "text": [
      "5초동안 30624035번 반복했습니다\n"
     ]
    }
   ],
   "source": [
    "number = 0\n",
    "\n",
    "target_tick = time.time() + 5\n",
    "while time.time() < target_tick:\n",
    "    number += 1\n",
    "\n",
    "print(f'5초동안 {number}번 반복했습니다')"
   ]
  },
  {
   "cell_type": "markdown",
   "id": "9b039eed-9369-49a3-9c52-2334a1d7e1f1",
   "metadata": {},
   "source": [
    "## break와 continue문"
   ]
  },
  {
   "cell_type": "code",
   "execution_count": 20,
   "id": "d98853bb-351d-45fa-a56b-d3f5b14e221d",
   "metadata": {},
   "outputs": [
    {
     "name": "stdout",
     "output_type": "stream",
     "text": [
      "5\n"
     ]
    }
   ],
   "source": [
    "numbers = [5, 15, 6, 20, 7, 25]\n",
    "numbers.sort()\n",
    "for number in numbers:\n",
    "    print(number)\n",
    "    break"
   ]
  },
  {
   "cell_type": "code",
   "execution_count": 19,
   "id": "b073c2d4-9e64-4c2a-baa7-258d41dca852",
   "metadata": {},
   "outputs": [
    {
     "name": "stdout",
     "output_type": "stream",
     "text": [
      "5\n",
      "6\n",
      "7\n",
      "15\n",
      "20\n"
     ]
    }
   ],
   "source": [
    "numbers = [5, 15, 6, 20, 7, 25]\n",
    "numbers.sort()\n",
    "for number in numbers:\n",
    "    print(number)\n",
    "    if number > 17:\n",
    "        break"
   ]
  },
  {
   "cell_type": "markdown",
   "id": "97af8fd7-6e75-411a-8886-f9df7b4fbdf2",
   "metadata": {},
   "source": [
    "# 함수 만들기\n",
    "- 공식문서 보실 때 필수 확인사항 2가지\n",
    "    + 매개변수 입력 방법(or 자료형)\n",
    "    + 반환값, 반환되는 자료형의 형태(int, str, array, list, Dataframe, etc)"
   ]
  },
  {
   "cell_type": "code",
   "execution_count": 21,
   "id": "53f4e14b-815b-4a08-b16f-78fdd42d80d4",
   "metadata": {},
   "outputs": [
    {
     "data": {
      "text/plain": [
       "5"
      ]
     },
     "execution_count": 21,
     "metadata": {},
     "output_type": "execute_result"
    }
   ],
   "source": [
    "text = \"안녕하세요\"\n",
    "len(text)"
   ]
  },
  {
   "cell_type": "markdown",
   "id": "b33a8126-426b-4d6c-9170-ad877b9edf47",
   "metadata": {},
   "source": [
    "a함수 ==> 문자열\n",
    "\n",
    "b함수 매개변수 문자열"
   ]
  },
  {
   "cell_type": "code",
   "execution_count": 22,
   "id": "4b663536-dcee-4e5f-b1cc-dae6edf10eb1",
   "metadata": {},
   "outputs": [
    {
     "data": {
      "text/plain": [
       "3"
      ]
     },
     "execution_count": 22,
     "metadata": {},
     "output_type": "execute_result"
    }
   ],
   "source": [
    "def add(a, b):\n",
    "    return a + b\n",
    "\n",
    "add(1, 2)"
   ]
  },
  {
   "cell_type": "code",
   "execution_count": 23,
   "id": "78e082e5-1fbe-434b-b761-bf3d9b4c184b",
   "metadata": {},
   "outputs": [
    {
     "data": {
      "text/plain": [
       "26"
      ]
     },
     "execution_count": 23,
     "metadata": {},
     "output_type": "execute_result"
    }
   ],
   "source": [
    "def cal(a, b, c):\n",
    "    return a * b + c\n",
    "\n",
    "cal(6, 4, 2)"
   ]
  },
  {
   "cell_type": "code",
   "execution_count": 26,
   "id": "a629598d-5e05-4c5b-815c-2d1890f5ce38",
   "metadata": {},
   "outputs": [
    {
     "name": "stdout",
     "output_type": "stream",
     "text": [
      "ㄹㅇㄻ입니다\n",
      "ㄹㅇㅁㄹ입니다\n",
      "ㅇㄴㅁㄻ입니다\n"
     ]
    }
   ],
   "source": [
    "def add_suffix_to_words(word1, word2, word3):\n",
    "    \"\"\"\n",
    "    세 개의 단어를 입력받아 각 단어 뒤에 \"~입니다\"를 붙여 출력합니다.\n",
    "    \n",
    "    Parameters:\n",
    "    word1 (str): 첫 번째 단어\n",
    "    word2 (str): 두 번째 단어\n",
    "    word3 (str): 세 번째 단어\n",
    "    \n",
    "    Returns:\n",
    "    None\n",
    "    \"\"\"\n",
    "    print(f\"{word1}입니다\")\n",
    "    print(f\"{word2}입니다\")\n",
    "    print(f\"{word3}입니다\")\n",
    "\n",
    "# 함수 호출 예시\n",
    "add_suffix_to_words(\"ㄹㅇㄻ\",\"ㄹㅇㅁㄹ\",\"ㅇㄴㅁㄻ\")\n"
   ]
  },
  {
   "cell_type": "code",
   "execution_count": 27,
   "id": "2e7ef76b-13d9-44a7-b9d6-85c7ea007c99",
   "metadata": {},
   "outputs": [
    {
     "name": "stdin",
     "output_type": "stream",
     "text": [
      "첫 번째 단어를 입력하세요:  ㄹㅇㅁㄹ\n",
      "두 번째 단어를 입력하세요:  ㄹㅇㅁㄹ\n",
      "세 번째 단어를 입력하세요:  ㅁㄻㄹㄴㅁ\n"
     ]
    },
    {
     "name": "stdout",
     "output_type": "stream",
     "text": [
      "ㄹㅇㅁㄹ입니다\n",
      "ㄹㅇㅁㄹ입니다\n",
      "ㅁㄻㄹㄴㅁ입니다\n"
     ]
    }
   ],
   "source": [
    "def add_suffix_to_words():\n",
    "    \"\"\"\n",
    "    세 개의 단어를 입력받아 각 단어 뒤에 \"~입니다\"를 붙여 출력합니다.\n",
    "    \n",
    "    Parameters:\n",
    "    None\n",
    "    \n",
    "    Returns:\n",
    "    None\n",
    "    \"\"\"\n",
    "    word1 = input(\"첫 번째 단어를 입력하세요: \")\n",
    "    word2 = input(\"두 번째 단어를 입력하세요: \")\n",
    "    word3 = input(\"세 번째 단어를 입력하세요: \")\n",
    "    \n",
    "    print(f\"{word1}입니다\")\n",
    "    print(f\"{word2}입니다\")\n",
    "    print(f\"{word3}입니다\")\n",
    "\n",
    "# 함수 호출\n",
    "add_suffix_to_words()\n"
   ]
  },
  {
   "cell_type": "code",
   "execution_count": 28,
   "id": "e3f809cf-4cee-44df-9afb-a80aac0dc8cf",
   "metadata": {},
   "outputs": [
    {
     "name": "stdout",
     "output_type": "stream",
     "text": [
      "Help on function greet in module __main__:\n",
      "\n",
      "greet(name)\n",
      "    Greet a person with their name.\n",
      "    \n",
      "    Parameters:\n",
      "    name (str): The name of the person.\n",
      "    \n",
      "    Returns:\n",
      "    str: A greeting message.\n",
      "\n"
     ]
    }
   ],
   "source": [
    "def greet(name):\n",
    "    \"\"\"\n",
    "    Greet a person with their name.\n",
    "\n",
    "    Parameters:\n",
    "    name (str): The name of the person.\n",
    "\n",
    "    Returns:\n",
    "    str: A greeting message.\n",
    "    \"\"\"\n",
    "    return f\"Hello, {name}!\"\n",
    "\n",
    "# 인터랙티브 모드에서 사용 예제\n",
    "help(greet)\n"
   ]
  },
  {
   "cell_type": "code",
   "execution_count": 29,
   "id": "0be8357f-3196-4003-a6a4-6b007aa041f5",
   "metadata": {},
   "outputs": [
    {
     "name": "stdout",
     "output_type": "stream",
     "text": [
      "안녕하세요\n",
      "안녕하세요\n",
      "안녕하세요\n"
     ]
    }
   ],
   "source": [
    "def print_n_times(value, n):\n",
    "    for i in range(n):\n",
    "        print(value)\n",
    "\n",
    "print_n_times(\"안녕하세요\", 3)"
   ]
  },
  {
   "cell_type": "code",
   "execution_count": 34,
   "id": "200e91b0-e2b1-465b-9a15-7caaeb9ae2fa",
   "metadata": {},
   "outputs": [
    {
     "name": "stdout",
     "output_type": "stream",
     "text": [
      "1::::::2::::::3::::::4::::::5\n"
     ]
    }
   ],
   "source": [
    "print(\"::::::\".join([\"1\", \"2\", \"3\", \"4\", \"5\"]))"
   ]
  },
  {
   "cell_type": "markdown",
   "id": "93429488-f9f3-44d3-af4e-cbcd635c0944",
   "metadata": {},
   "source": [
    "## 가변 매개변수\n",
    "- *를 매개변수 추가\n",
    "- 매개변수 개수가 변할 수 있다는 의미"
   ]
  },
  {
   "cell_type": "code",
   "execution_count": 38,
   "id": "fe7b364d-2909-4606-ba7b-e0f406b56801",
   "metadata": {},
   "outputs": [
    {
     "name": "stdout",
     "output_type": "stream",
     "text": [
      "안녕하세요\n",
      "즐거운\n",
      "파이썬 프로그래밍입니다\n",
      "ㅋㅋㅋ\n",
      "\n",
      "안녕하세요\n",
      "즐거운\n",
      "파이썬 프로그래밍입니다\n",
      "ㅋㅋㅋ\n",
      "\n",
      "안녕하세요\n",
      "즐거운\n",
      "파이썬 프로그래밍입니다\n",
      "ㅋㅋㅋ\n",
      "\n"
     ]
    }
   ],
   "source": [
    "def print_n_times(n, *values):\n",
    "    # n번 반복합니다.\n",
    "    for i in range(n):\n",
    "        # values는 리스트처럼 활용합니다.\n",
    "        for value in values:\n",
    "            print(value)\n",
    "        # 단순한 줄바꿈\n",
    "        print()\n",
    "\n",
    "# 함수를 호출합니다.\n",
    "print_n_times(3, \"안녕하세요\", \"즐거운\", \"파이썬 프로그래밍입니다\")"
   ]
  },
  {
   "cell_type": "code",
   "execution_count": 39,
   "id": "f16f4f80-7061-4c32-9fce-647e8a72de27",
   "metadata": {},
   "outputs": [],
   "source": [
    "def print_n_times(n, *values):\n",
    "    for i in range(n):\n",
    "        for value in values:\n",
    "            print(value)\n",
    "        print()"
   ]
  },
  {
   "cell_type": "code",
   "execution_count": 41,
   "id": "57a1be84-9bfd-46bc-95ec-79c4b9641559",
   "metadata": {},
   "outputs": [
    {
     "data": {
      "text/plain": [
       "10"
      ]
     },
     "execution_count": 41,
     "metadata": {},
     "output_type": "execute_result"
    }
   ],
   "source": [
    "def add_many(*nums):\n",
    "    result = 0\n",
    "    for num in nums:\n",
    "        result += num\n",
    "\n",
    "    return result\n",
    "\n",
    "add_many(1, 2, 3, 4)"
   ]
  },
  {
   "cell_type": "markdown",
   "id": "7197e7b4-393c-4c68-a929-00f93e656765",
   "metadata": {},
   "source": [
    "## 키워드 매개변수 **kwargs\n",
    "- 매개변수 앞에 ** 붙인 케이스"
   ]
  },
  {
   "cell_type": "code",
   "execution_count": 42,
   "id": "fe6755aa-5dec-459c-a880-6a4d78c38714",
   "metadata": {},
   "outputs": [],
   "source": [
    "def print_kwargs(**kwargs):\n",
    "    # 이 메서드에는 return 값이 없음\n",
    "    print(kwargs) #어떻게 출력이 될까?"
   ]
  },
  {
   "cell_type": "code",
   "execution_count": 45,
   "id": "9a74edc0-9f66-4667-bec9-55cc64068a31",
   "metadata": {},
   "outputs": [
    {
     "name": "stdout",
     "output_type": "stream",
     "text": [
      "{'a': 1, 'b': 2, 'c': 3, 'd': [1, 3, 5, 6, 2]}\n"
     ]
    }
   ],
   "source": [
    "print_kwargs(a = 1, b = 2, c =3, d = [1, 3, 5, 6, 2])"
   ]
  },
  {
   "cell_type": "code",
   "execution_count": 48,
   "id": "fd0f95cd-ae0b-4934-8064-dd88dfe6fadf",
   "metadata": {},
   "outputs": [
    {
     "name": "stdout",
     "output_type": "stream",
     "text": [
      "111\n",
      "111\n"
     ]
    }
   ],
   "source": [
    "def test1(a, b = 10, c = 100):\n",
    "    # 값을 전달할 필요가 없고, 단순 확인용도로만 함수를 만들고 싶으면 print()\n",
    "    print(a + b + c)\n",
    "\n",
    "\n",
    "#test1(1)\n",
    "reuslt = test1(1)\n",
    "test1(a=1)"
   ]
  },
  {
   "cell_type": "code",
   "execution_count": 49,
   "id": "a13a0227-bb04-482d-88b4-8163bc0b2e0a",
   "metadata": {},
   "outputs": [
    {
     "data": {
      "text/plain": [
       "111"
      ]
     },
     "execution_count": 49,
     "metadata": {},
     "output_type": "execute_result"
    }
   ],
   "source": [
    "def teset2(a, b = 10, c= 100):\n",
    "\n",
    "    #값을 전달해야만 할 때는 return 값을 지정\n",
    "    return a + b + c\n",
    "\n",
    "result = teset2(1)\n",
    "result"
   ]
  },
  {
   "cell_type": "markdown",
   "id": "2bf041f2-f894-4cc2-a896-a982f63abb11",
   "metadata": {},
   "source": [
    "## why 클래스?\n",
    "\n",
    "- 함수, 반복문 적절하게 사용해도 큰 문제 안됨\n",
    "- why 클래스?\n",
    "  + 한줄로 요약 : 자동화 / 많은 사람들이 사용할 수 있도록 배포"
   ]
  },
  {
   "cell_type": "code",
   "execution_count": 51,
   "id": "4c8613d1-d3eb-4bf2-bae3-6586e769ecbe",
   "metadata": {},
   "outputs": [
    {
     "name": "stdout",
     "output_type": "stream",
     "text": [
      "3\n",
      "7\n"
     ]
    }
   ],
   "source": [
    "result = 0 \n",
    "\n",
    "def add(num):\n",
    "    global result # 전역변수\n",
    "    result += num # 결괏값에 입력값 num 더하기\n",
    "    return result\n",
    "\n",
    "\n",
    "print(add(3))\n",
    "print(add(4))"
   ]
  },
  {
   "cell_type": "markdown",
   "id": "9d077b0d-db63-4c58-8104-d1fcc14e0b17",
   "metadata": {},
   "source": [
    "# 클래스 만들기"
   ]
  },
  {
   "cell_type": "code",
   "execution_count": 57,
   "id": "795784ce-c5b5-48a1-9282-e40d432ea650",
   "metadata": {},
   "outputs": [
    {
     "name": "stdout",
     "output_type": "stream",
     "text": [
      "3\n",
      "5\n",
      "7\n",
      "9\n"
     ]
    }
   ],
   "source": [
    "#클래스 안쓰는경우\n",
    "result1 = 0\n",
    "result2 = 0 \n",
    "result3 = 0\n",
    "\n",
    "def add1(num):\n",
    "    global result1 # 전역변수 \n",
    "    result1 += num # 결괏값에 입력값 num 더하기\n",
    "    return result1\n",
    "\n",
    "def add2(num):\n",
    "    global result2 # 전역변수 \n",
    "    result2 += num # 결괏값에 입력값 num 더하기\n",
    "    return result2\n",
    "\n",
    "print(add1(3)) # 첫번째 사람\n",
    "print(add2(5)) # 두번째 사람\n",
    "print(add1(4)) # 첫번째 사람\n",
    "print(add2(4)) # 두번째 사람"
   ]
  },
  {
   "cell_type": "code",
   "execution_count": 63,
   "id": "96789eee-96b6-41ec-953e-590395d68674",
   "metadata": {},
   "outputs": [
    {
     "name": "stdout",
     "output_type": "stream",
     "text": [
      "3\n",
      "7\n",
      "5\n",
      "9\n",
      "6\n",
      "1\n",
      "3\n",
      "1.0\n"
     ]
    }
   ],
   "source": [
    "class Calculator:\n",
    "    def __init__(self):\n",
    "        self.result = 0\n",
    "\n",
    "    def add(self, num):\n",
    "        self.result += num\n",
    "        return self.result\n",
    "\n",
    "    #새롭게 추가가 된 메서드 ==> 업데이트\n",
    "    def sub(self, num):\n",
    "        self.result -= num\n",
    "        return self.result\n",
    "\n",
    "    #곱셈도 추가 해보자\n",
    "    def ssub(self, num):\n",
    "        self.result *= num\n",
    "        return self.result\n",
    "\n",
    "    #나눗셈도 추가 해보자\n",
    "    def sssub(self,num):\n",
    "        self.result /= num\n",
    "        return self.result\n",
    "        \n",
    "# 사용자1\n",
    "cal1 = Calculator()\n",
    "cal2 = Calculator()\n",
    "\n",
    "print(cal1.add(3))\n",
    "print(cal1.add(4))\n",
    "print(cal2.add(5))\n",
    "print(cal2.add(4))\n",
    "print(cal2.sub(3))\n",
    "print(cal2.sub(5))\n",
    "print(cal2.ssub(3))\n",
    "print(cal2.sssub(3))"
   ]
  },
  {
   "cell_type": "code",
   "execution_count": 64,
   "id": "499a27d2-f4cf-4014-87d3-1c2458d8d0cd",
   "metadata": {},
   "outputs": [],
   "source": [
    "class StudentGrade : #CamelCase로 이름 명명\n",
    "    pass"
   ]
  },
  {
   "cell_type": "markdown",
   "id": "fa4db278-9a7f-4bf7-a315-30569a3ec9b8",
   "metadata": {},
   "source": [
    "인스턴스 이름(=변수 이름) = 클래스 이름() --> 생성자 함수"
   ]
  },
  {
   "cell_type": "code",
   "execution_count": 65,
   "id": "19279997-48e1-44da-8b49-ecf50d3c2575",
   "metadata": {
    "scrolled": true
   },
   "outputs": [
    {
     "ename": "NameError",
     "evalue": "name 'Student' is not defined",
     "output_type": "error",
     "traceback": [
      "\u001b[1;31m---------------------------------------------------------------------------\u001b[0m",
      "\u001b[1;31mNameError\u001b[0m                                 Traceback (most recent call last)",
      "Cell \u001b[1;32mIn[65], line 5\u001b[0m\n\u001b[0;32m      2\u001b[0m     \u001b[38;5;28;01mpass\u001b[39;00m\n\u001b[0;32m      4\u001b[0m \u001b[38;5;66;03m#학생을 선언합니다.\u001b[39;00m\n\u001b[1;32m----> 5\u001b[0m 희교 \u001b[38;5;241m=\u001b[39m \u001b[43mStudent\u001b[49m() \u001b[38;5;66;03m## 하나의 의미있는 객체\u001b[39;00m\n\u001b[0;32m      6\u001b[0m 성민 \u001b[38;5;241m=\u001b[39m Student() \u001b[38;5;66;03m## 하나의 의미있는 객체\u001b[39;00m\n\u001b[0;32m      7\u001b[0m 승훈 \u001b[38;5;241m=\u001b[39m Student() \u001b[38;5;66;03m## 하나의 의미있는 객체\u001b[39;00m\n",
      "\u001b[1;31mNameError\u001b[0m: name 'Student' is not defined"
     ]
    }
   ],
   "source": [
    "class student:\n",
    "    pass\n",
    "\n",
    "#학생을 선언합니다.\n",
    "희교 = Student() ## 하나의 의미있는 객체\n",
    "성민 = Student() ## 하나의 의미있는 객체\n",
    "승훈 = Student() ## 하나의 의미있는 객체\n"
   ]
  },
  {
   "cell_type": "code",
   "execution_count": 15,
   "id": "16bb9976-f438-4a73-82a0-5862a39debd1",
   "metadata": {},
   "outputs": [],
   "source": [
    "class Student:\n",
    "    #상태\n",
    "    def __init__(self, name, korean, math, english, science):\n",
    "        self.name = name\n",
    "        self.korean = korean\n",
    "        self.math = math\n",
    "        self.english = english\n",
    "        self.science = science\n",
    "\n",
    "      #행동\n",
    "    def get_sum(self):\n",
    "        return self.korean + self.math + self.english + self.science\n",
    "\n",
    "    def get_average(self):\n",
    "        return self.get_sum() / 4\n",
    "    \n",
    "    def get_grade(self):\n",
    "        grade = None\n",
    "        if self.get_average() >= 80:\n",
    "            grade = 'A'\n",
    "        else:\n",
    "            grade = 'F'\n",
    "            \n",
    "        return grade\n",
    "                \n",
    "student = [\n",
    "    Student(\"윤기모\", 15, 28, 88, 95\n",
    "           \n",
    "           ),\n",
    "    Student(\"기인성\", 87, 98, 88, 95),\n",
    "    Student(\"모인기\", 10, 98, 88, 95),\n",
    "    Student(\"지인버\", 87, 98, 88, 95),\n",
    "    Student(\"미인우\", 87, 98, 88, 95),\n",
    "    Student(\"호인여\", 87, 98, 88, 95)\n",
    "\n",
    "]\n",
    "         \n",
    "\n",
    "    "
   ]
  },
  {
   "cell_type": "code",
   "execution_count": 16,
   "id": "1301979e-63dc-426b-90de-9a5856b51af6",
   "metadata": {},
   "outputs": [
    {
     "data": {
      "text/plain": [
       "'F'"
      ]
     },
     "execution_count": 16,
     "metadata": {},
     "output_type": "execute_result"
    }
   ],
   "source": [
    "student[0].get_grade()"
   ]
  },
  {
   "cell_type": "markdown",
   "id": "51258ae0-5ba3-45e6-8d4f-e2282a9e81d5",
   "metadata": {},
   "source": [
    "## 인스턴스 확인\n",
    "- isinstance(인스턴스, 클래스)"
   ]
  },
  {
   "cell_type": "code",
   "execution_count": 3,
   "id": "0331e368-55c9-45a6-8b04-83b36c5b81aa",
   "metadata": {},
   "outputs": [
    {
     "data": {
      "text/plain": [
       "True"
      ]
     },
     "execution_count": 3,
     "metadata": {},
     "output_type": "execute_result"
    }
   ],
   "source": [
    "class Student:\n",
    "    def __init__(self):\n",
    "        pass\n",
    "\n",
    "student = Student()\n",
    "isinstance(student, Student)"
   ]
  },
  {
   "cell_type": "code",
   "execution_count": 4,
   "id": "64fd2755-dfe9-4fc7-ad34-866a88626be4",
   "metadata": {},
   "outputs": [],
   "source": [
    "# 상속 문법\n",
    "class Human:\n",
    "    def __init__(self):\n",
    "        pass\n",
    "\n",
    "class Student(Human):\n",
    "    def __init__(self):\n",
    "        pass"
   ]
  },
  {
   "cell_type": "markdown",
   "id": "822eb4fe-6584-496c-ab66-078430c3b9d8",
   "metadata": {},
   "source": [
    "## 상속 문법 확인\n",
    "-page 497"
   ]
  },
  {
   "cell_type": "code",
   "execution_count": null,
   "id": "488bb98b-9f06-4e6f-86a7-00aa065d7ffd",
   "metadata": {},
   "outputs": [],
   "source": [
    "class Parent:\n",
    "    pass\n",
    "\n",
    "class Child(Parent):\n",
    "    def __init__(self):\n",
    "        super().__init__()"
   ]
  }
 ],
 "metadata": {
  "kernelspec": {
   "display_name": "Python 3 (ipykernel)",
   "language": "python",
   "name": "python3"
  },
  "language_info": {
   "codemirror_mode": {
    "name": "ipython",
    "version": 3
   },
   "file_extension": ".py",
   "mimetype": "text/x-python",
   "name": "python",
   "nbconvert_exporter": "python",
   "pygments_lexer": "ipython3",
   "version": "3.11.7"
  }
 },
 "nbformat": 4,
 "nbformat_minor": 5
}
