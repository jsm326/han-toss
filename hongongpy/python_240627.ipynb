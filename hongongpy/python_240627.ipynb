{
 "cells": [
  {
   "cell_type": "markdown",
   "id": "43a7f22b-d72c-4350-9264-bdab59ab6034",
   "metadata": {},
   "source": [
    "## 리스트와 튜플\n",
    "- 리스트 선언 후, 인덱싱 & 슬라이싱"
   ]
  },
  {
   "cell_type": "code",
   "execution_count": 1,
   "id": "4f35380d-1615-4e09-a70e-bc43624fa058",
   "metadata": {},
   "outputs": [
    {
     "data": {
      "text/plain": [
       "3"
      ]
     },
     "execution_count": 1,
     "metadata": {},
     "output_type": "execute_result"
    }
   ],
   "source": [
    "list_a = [273, 32, 'A', True, [1, 2, 3]]\n",
    "list_a[-1][2]"
   ]
  },
  {
   "cell_type": "code",
   "execution_count": 2,
   "id": "e64678fa-589e-4ddc-bed3-0581ebf2c347",
   "metadata": {},
   "outputs": [
    {
     "data": {
      "text/plain": [
       "True"
      ]
     },
     "execution_count": 2,
     "metadata": {},
     "output_type": "execute_result"
    }
   ],
   "source": [
    "list_a[-2]"
   ]
  },
  {
   "cell_type": "code",
   "execution_count": 3,
   "id": "f239f847-6b1e-4915-8e6b-b3f9ca8c4a8b",
   "metadata": {},
   "outputs": [
    {
     "data": {
      "text/plain": [
       "[1, 2, 3, 4, 5, 6]"
      ]
     },
     "execution_count": 3,
     "metadata": {},
     "output_type": "execute_result"
    }
   ],
   "source": [
    "#p.196\n",
    "list_a = [1, 2, 3]\n",
    "list_b = [4, 5, 6]\n",
    "list_a + list_b"
   ]
  },
  {
   "cell_type": "code",
   "execution_count": 4,
   "id": "d8efcb6c-d15e-40ea-9d04-4d6912cff7e7",
   "metadata": {},
   "outputs": [
    {
     "data": {
      "text/plain": [
       "[1, 2, 3, 1, 2, 3, 1, 2, 3]"
      ]
     },
     "execution_count": 4,
     "metadata": {},
     "output_type": "execute_result"
    }
   ],
   "source": [
    "list_a * 3"
   ]
  },
  {
   "cell_type": "code",
   "execution_count": 5,
   "id": "db96a92f-175a-4c9e-8137-e4da7dbb05a0",
   "metadata": {},
   "outputs": [
    {
     "data": {
      "text/plain": [
       "[1, 2, 3, 'a']"
      ]
     },
     "execution_count": 5,
     "metadata": {},
     "output_type": "execute_result"
    }
   ],
   "source": [
    "list_a + list(\"a\")"
   ]
  },
  {
   "cell_type": "markdown",
   "id": "2b3ea314-f032-4773-b80c-772b11ac40a3",
   "metadata": {},
   "source": [
    "- 숫자는 scalar 자료형\n",
    "- 문자는 sequence 자료형 (List도 sequence 자료형)"
   ]
  },
  {
   "cell_type": "code",
   "execution_count": 6,
   "id": "cc58349c-a2ad-4c15-b719-2a588847798f",
   "metadata": {},
   "outputs": [
    {
     "data": {
      "text/plain": [
       "[1, '변경', 3]"
      ]
     },
     "execution_count": 6,
     "metadata": {},
     "output_type": "execute_result"
    }
   ],
   "source": [
    "# list_a[인덱스번호] = 새로운 값\n",
    "list_a[1] = \"변경\"\n",
    "list_a"
   ]
  },
  {
   "cell_type": "code",
   "execution_count": 7,
   "id": "8a726fb5-505b-48cd-a5d9-3eebbee24345",
   "metadata": {},
   "outputs": [
    {
     "data": {
      "text/plain": [
       "3"
      ]
     },
     "execution_count": 7,
     "metadata": {},
     "output_type": "execute_result"
    }
   ],
   "source": [
    "len(list_a)"
   ]
  },
  {
   "cell_type": "markdown",
   "id": "712f8bbe-da11-47ef-8250-d568ecf3a876",
   "metadata": {},
   "source": [
    "## append()와 insert()"
   ]
  },
  {
   "cell_type": "code",
   "execution_count": 8,
   "id": "407a873f-525e-49ff-bf71-1633e0654be6",
   "metadata": {},
   "outputs": [
    {
     "data": {
      "text/plain": [
       "[1, 2, 3, 4, 'A']"
      ]
     },
     "execution_count": 8,
     "metadata": {},
     "output_type": "execute_result"
    }
   ],
   "source": [
    "list_a = [1, 2, 3]\n",
    "list_a.append(4)\n",
    "list_a.append(\"A\")\n",
    "list_a"
   ]
  },
  {
   "cell_type": "code",
   "execution_count": 9,
   "id": "8a0525ae-8191-41d5-a77a-c31ac55fb148",
   "metadata": {},
   "outputs": [
    {
     "data": {
      "text/plain": [
       "[1, 2, 3, 100, 4, 'A']"
      ]
     },
     "execution_count": 9,
     "metadata": {},
     "output_type": "execute_result"
    }
   ],
   "source": [
    "list_a.insert(3, 100)\n",
    "list_a"
   ]
  },
  {
   "cell_type": "code",
   "execution_count": 10,
   "id": "5d919881-e6d4-445a-9a71-7a25835c1e64",
   "metadata": {},
   "outputs": [
    {
     "data": {
      "text/plain": [
       "3"
      ]
     },
     "execution_count": 10,
     "metadata": {},
     "output_type": "execute_result"
    }
   ],
   "source": [
    "list_a.pop(2)"
   ]
  },
  {
   "cell_type": "code",
   "execution_count": 11,
   "id": "e0a8900a-90ad-41da-88a3-be3e7ef20e98",
   "metadata": {},
   "outputs": [
    {
     "data": {
      "text/plain": [
       "[1, 2, 100, 4, 'A']"
      ]
     },
     "execution_count": 11,
     "metadata": {},
     "output_type": "execute_result"
    }
   ],
   "source": [
    "list_a"
   ]
  },
  {
   "cell_type": "code",
   "execution_count": 12,
   "id": "82e2a445-dcf9-486f-9dc1-877187350e1a",
   "metadata": {},
   "outputs": [
    {
     "data": {
      "text/plain": [
       "[5, 4, 3, 2, 1]"
      ]
     },
     "execution_count": 12,
     "metadata": {},
     "output_type": "execute_result"
    }
   ],
   "source": [
    "# 리스트를 정의합니다.\n",
    "numbers = [1, 2, 3, 4, 5]\n",
    "\n",
    "# 리스트를 뒤집습니다.\n",
    "numbers.reverse()\n",
    "\n",
    "numbers"
   ]
  },
  {
   "cell_type": "code",
   "execution_count": 13,
   "id": "95e6cb15-f514-422a-b128-105180dcfaa7",
   "metadata": {},
   "outputs": [
    {
     "ename": "AttributeError",
     "evalue": "'list' object has no attribute 'apend'",
     "output_type": "error",
     "traceback": [
      "\u001b[1;31m---------------------------------------------------------------------------\u001b[0m",
      "\u001b[1;31mAttributeError\u001b[0m                            Traceback (most recent call last)",
      "Cell \u001b[1;32mIn[13], line 2\u001b[0m\n\u001b[0;32m      1\u001b[0m list_a \u001b[38;5;241m=\u001b[39m [\u001b[38;5;241m1\u001b[39m, \u001b[38;5;241m2\u001b[39m, \u001b[38;5;241m3\u001b[39m]\n\u001b[1;32m----> 2\u001b[0m \u001b[43mlist_a\u001b[49m\u001b[38;5;241;43m.\u001b[39;49m\u001b[43mapend\u001b[49m(\u001b[38;5;241m4\u001b[39m)\n",
      "\u001b[1;31mAttributeError\u001b[0m: 'list' object has no attribute 'apend'"
     ]
    }
   ],
   "source": [
    "list_a = [1, 2, 3]\n",
    "list_a.apend(4)"
   ]
  },
  {
   "cell_type": "markdown",
   "id": "f2f39587-3587-4dda-8c3a-52205999dfa4",
   "metadata": {},
   "source": [
    "## extend()\n",
    "- extend() 함수는 매개변수로 리스트를 입력"
   ]
  },
  {
   "cell_type": "code",
   "execution_count": 14,
   "id": "34d8860c-85cd-481f-bd2e-af22a3b71536",
   "metadata": {},
   "outputs": [
    {
     "data": {
      "text/plain": [
       "[1, 2, 3, 'a', 'q', 'r', 'w', 'a', 'f']"
      ]
     },
     "execution_count": 14,
     "metadata": {},
     "output_type": "execute_result"
    }
   ],
   "source": [
    "list_a = [1, 2, 3]\n",
    "list_a.extend('aqrwaf')\n",
    "#iterable한 것만 넣어줄 수 있음\n",
    "list_a"
   ]
  },
  {
   "cell_type": "markdown",
   "id": "a7281339-a2a5-4326-abe4-fc98bf823e2c",
   "metadata": {},
   "source": [
    "## 인덱스로 제거하기 : del 키워드, pop() 키워드"
   ]
  },
  {
   "cell_type": "code",
   "execution_count": 15,
   "id": "86a68d2e-1123-44c6-b19a-ba63628f9062",
   "metadata": {},
   "outputs": [
    {
     "data": {
      "text/plain": [
       "['b', 'c', 'd']"
      ]
     },
     "execution_count": 15,
     "metadata": {},
     "output_type": "execute_result"
    }
   ],
   "source": [
    "list_a = [\"a\", \"b\", \"c\", \"d\"]\n",
    "del list_a[0]\n",
    "list_a"
   ]
  },
  {
   "cell_type": "code",
   "execution_count": 16,
   "id": "5efc3ce3-1e8c-4590-8c9c-6214f313a799",
   "metadata": {},
   "outputs": [
    {
     "data": {
      "text/plain": [
       "['c', 'd']"
      ]
     },
     "execution_count": 16,
     "metadata": {},
     "output_type": "execute_result"
    }
   ],
   "source": [
    "del list_a[0]\n",
    "list_a\n",
    "#파괴적"
   ]
  },
  {
   "cell_type": "code",
   "execution_count": null,
   "id": "494be488-c69a-47ad-a600-f4d377fa0968",
   "metadata": {},
   "outputs": [],
   "source": [
    "list_a = [\"a\", \"b\", \"c\", \"d\"]\n",
    "popout = list_a.pop(3)\n",
    "print(list_a)\n",
    "print(popout)"
   ]
  },
  {
   "cell_type": "markdown",
   "id": "8fd06852-1620-435f-b381-8e6c177e38bd",
   "metadata": {},
   "source": [
    "## 값으로 제거하기: remove()\n",
    "-인덱스 번호가 아닌 실제 값을 의미한다."
   ]
  },
  {
   "cell_type": "code",
   "execution_count": null,
   "id": "1d637533-168c-408e-b89c-2de86579263d",
   "metadata": {},
   "outputs": [],
   "source": [
    "list_a = [\"a\", \"b\", \"a\", \"c\", \"d\"]\n",
    "list_a.remove(\"a\")\n",
    "list_a.remove(\"a\")\n",
    "list_a"
   ]
  },
  {
   "cell_type": "markdown",
   "id": "a862c907-bc65-4a94-aa0c-bb0dc644bedd",
   "metadata": {},
   "source": [
    "## 리스트 정렬하기 : sort()"
   ]
  },
  {
   "cell_type": "code",
   "execution_count": null,
   "id": "6c3fc854-b693-49fa-97a2-e3d9ce93b356",
   "metadata": {},
   "outputs": [],
   "source": [
    "list_a = [52, 273, 103, 32]\n",
    "list_a.sort()\n",
    "list_a"
   ]
  },
  {
   "cell_type": "code",
   "execution_count": null,
   "id": "d2526a4b-9b26-46ed-a0c9-38cd1a355540",
   "metadata": {},
   "outputs": [],
   "source": [
    "list_a = [52, 273, 103, 32]\n",
    "list_a.sort(reverse=True)\n",
    "list_a"
   ]
  },
  {
   "cell_type": "code",
   "execution_count": null,
   "id": "df013e79-98d8-4bda-b2d0-ccd3689242ba",
   "metadata": {},
   "outputs": [],
   "source": [
    "\"a\" in \"abc\""
   ]
  },
  {
   "cell_type": "code",
   "execution_count": null,
   "id": "39ea9fca-e739-4f69-b92b-8708635766be",
   "metadata": {},
   "outputs": [],
   "source": [
    "273 in list_a"
   ]
  },
  {
   "cell_type": "code",
   "execution_count": null,
   "id": "cb01eef5-12ea-4185-a1f3-8635538622ad",
   "metadata": {},
   "outputs": [],
   "source": [
    "312 not in list_a"
   ]
  },
  {
   "cell_type": "markdown",
   "id": "124cd74b-dddb-4dac-80b6-a8d2e0f9b190",
   "metadata": {},
   "source": [
    "## 튜플 (p.317)\n",
    "- 리스트와 비슷한 자료형\n",
    "- 인덱싱, 슬라이싱 모두 가능\n",
    "- 리스트와 다르게 값을 수정할 수 없음"
   ]
  },
  {
   "cell_type": "code",
   "execution_count": null,
   "id": "4435874d-e8f6-4c20-b9d7-4b40afaaaf12",
   "metadata": {
    "jupyter": {
     "source_hidden": true
    }
   },
   "outputs": [],
   "source": [
    "tuple_test = (10, 20, 30, 40, 50, 60)\n",
    "tuple_test"
   ]
  },
  {
   "cell_type": "code",
   "execution_count": null,
   "id": "fc5a9400-222d-4bfd-88d4-b16570fbaf7f",
   "metadata": {},
   "outputs": [],
   "source": [
    "tuple_test[2:5][0]"
   ]
  },
  {
   "cell_type": "code",
   "execution_count": null,
   "id": "2e008b88-0c13-48ec-be11-060e445e7866",
   "metadata": {},
   "outputs": [],
   "source": [
    "list_a[0] = 100\n",
    "list_a"
   ]
  },
  {
   "cell_type": "code",
   "execution_count": null,
   "id": "9943443f-815b-41b0-b2cb-6cd528d4026f",
   "metadata": {},
   "outputs": [],
   "source": [
    "del list_a[0]"
   ]
  },
  {
   "cell_type": "code",
   "execution_count": null,
   "id": "27331eb8-a3b4-4b11-87b0-5556302ba815",
   "metadata": {},
   "outputs": [],
   "source": []
  },
  {
   "cell_type": "code",
   "execution_count": null,
   "id": "c0fd528b-bff3-402a-b360-f0ddbf2c6980",
   "metadata": {},
   "outputs": [],
   "source": [
    "del tuple_test[0]"
   ]
  },
  {
   "cell_type": "code",
   "execution_count": null,
   "id": "64a1f2a3-2e6b-4327-b54a-62f672c2f8ec",
   "metadata": {},
   "outputs": [],
   "source": [
    "tuple_test[0] = 300"
   ]
  },
  {
   "cell_type": "code",
   "execution_count": null,
   "id": "a49c2689-b91f-4baa-9581-7181130080f8",
   "metadata": {},
   "outputs": [],
   "source": [
    "list_c = [6,5,3,53,3,2,143]\n",
    "list_c[2] = 14241\n",
    "list_c"
   ]
  },
  {
   "cell_type": "markdown",
   "id": "f4eee997-d3c6-438a-9130-e854cb80bf2a",
   "metadata": {},
   "source": [
    "## 딕셔너리\n",
    "- Web관련 자료형 중에서 JSON(JavaScript Object Notation) 형태와 유사\n",
    "- pandas 데이터프레임을 만들 때도 매우 자주 사용\n",
    "- 사전식 구성 연상\n",
    "    + 키워드 입력 ==> 다양한 의미\n",
    "    + Love, 동사, 명사 등등등"
   ]
  },
  {
   "cell_type": "code",
   "execution_count": 65,
   "id": "88a79755-61b2-4f8c-bdbd-0002aec24164",
   "metadata": {},
   "outputs": [
    {
     "data": {
      "text/plain": [
       "{'name': '어벤저스 엔드게임',\n",
       " 'type': '히어로 무비',\n",
       " 'director': ['안소니 루소', '조 루소'],\n",
       " 'year': 2019}"
      ]
     },
     "execution_count": 65,
     "metadata": {},
     "output_type": "execute_result"
    }
   ],
   "source": [
    "dict_a = {\n",
    "    \"name\" : \"어벤저스 엔드게임\",\n",
    "    \"type\" : \"히어로 무비\",\n",
    "    \"director\" : [\"안소니 루소\", \"조 루소\"],\n",
    "    \"year\" : 2019\n",
    "}\n",
    "\n",
    "dict_a"
   ]
  },
  {
   "cell_type": "code",
   "execution_count": 66,
   "id": "358532bd-7f8e-4400-af59-d89f6517a711",
   "metadata": {},
   "outputs": [
    {
     "data": {
      "text/plain": [
       "'니 루'"
      ]
     },
     "execution_count": 66,
     "metadata": {},
     "output_type": "execute_result"
    }
   ],
   "source": [
    "# 딕셔너리 ==> 리스트 ==> 문자열로 자료형이 막 바뀌더라!!\n",
    "dict_a['director'][0][2:5]"
   ]
  },
  {
   "cell_type": "code",
   "execution_count": 67,
   "id": "5f4ef00f-d6f0-42e8-9802-56a45ba68b54",
   "metadata": {},
   "outputs": [
    {
     "data": {
      "text/plain": [
       "{'name': '7D 건조망고', 'type': '당절임'}"
      ]
     },
     "execution_count": 67,
     "metadata": {},
     "output_type": "execute_result"
    }
   ],
   "source": [
    "# key 설정 시, 무조건 따옴표 사용\n",
    "dict_key = {\n",
    "    'name' : \"7D 건조망고\",\n",
    "    'type' : \"당절임\"\n",
    "}\n",
    "dict_key"
   ]
  },
  {
   "cell_type": "code",
   "execution_count": 68,
   "id": "7f6c6082-969b-472e-a0a1-8585d77ffaaf",
   "metadata": {},
   "outputs": [
    {
     "data": {
      "text/plain": [
       "{'name': '7D 건조망고',\n",
       " 'type': '당절임',\n",
       " '새로운키': '새로운값',\n",
       " 'price': '10,000',\n",
       " '새로운 딕셔너리': {'a': [10, 0], 'b': [1, 2, 3]}}"
      ]
     },
     "execution_count": 68,
     "metadata": {},
     "output_type": "execute_result"
    }
   ],
   "source": [
    "dict_key['새로운키'] = \"새로운값\"\n",
    "dict_key['price'] = \"10,000\"\n",
    "dict_key['새로운 딕셔너리'] = {'a' : [10,000], 'b' : [1,2,3]}\n",
    "dict_key"
   ]
  },
  {
   "cell_type": "code",
   "execution_count": 69,
   "id": "4e9df14b-bc08-41fb-b09e-bb421e05b38e",
   "metadata": {},
   "outputs": [
    {
     "data": {
      "text/plain": [
       "{'name': '7D 건조망고',\n",
       " 'type': '당절임',\n",
       " '새로운키': '새로운값',\n",
       " 'price': '10,000',\n",
       " '새로운 딕셔너리': {'a': [10, 0], 'b': [1, 2, 3]},\n",
       " '나이': '26',\n",
       " '취미': {'a': [12313], 'b': [2132151]}}"
      ]
     },
     "execution_count": 69,
     "metadata": {},
     "output_type": "execute_result"
    }
   ],
   "source": [
    "dict_key['나이'] = '26'\n",
    "dict_key['취미'] = {'a' :[12313], 'b' : [2132151]}\n",
    "dict_key"
   ]
  },
  {
   "cell_type": "code",
   "execution_count": 70,
   "id": "e621b702-5faa-4b1c-aee4-7d8d5d3684b6",
   "metadata": {},
   "outputs": [
    {
     "data": {
      "text/plain": [
       "{'name': '7D 건조망고',\n",
       " 'type': '당절임',\n",
       " '새로운키': '새로운값',\n",
       " 'price': '10,000',\n",
       " '새로운 딕셔너리': {'a': [10, 0], 'b': [1, 2, 3]},\n",
       " '취미': {'a': [12313], 'b': [2132151]}}"
      ]
     },
     "execution_count": 70,
     "metadata": {},
     "output_type": "execute_result"
    }
   ],
   "source": [
    "del dict_key['나이']\n",
    "dict_key"
   ]
  },
  {
   "cell_type": "code",
   "execution_count": 71,
   "id": "556d3c45-a6f5-4026-85d0-7c1d60b8c365",
   "metadata": {},
   "outputs": [
    {
     "data": {
      "text/plain": [
       "dict_keys(['name', 'type', '새로운키', 'price', '새로운 딕셔너리', '취미'])"
      ]
     },
     "execution_count": 71,
     "metadata": {},
     "output_type": "execute_result"
    }
   ],
   "source": [
    "dict_key.keys()"
   ]
  },
  {
   "cell_type": "code",
   "execution_count": 72,
   "id": "237ab8c8-4171-48eb-97b0-4dbfd4bcc425",
   "metadata": {},
   "outputs": [
    {
     "data": {
      "text/plain": [
       "dict_values(['7D 건조망고', '당절임', '새로운값', '10,000', {'a': [10, 0], 'b': [1, 2, 3]}, {'a': [12313], 'b': [2132151]}])"
      ]
     },
     "execution_count": 72,
     "metadata": {},
     "output_type": "execute_result"
    }
   ],
   "source": [
    "dict_key.values()"
   ]
  },
  {
   "cell_type": "code",
   "execution_count": 73,
   "id": "92ea7026-fbed-4b9c-800b-e29780a8bda2",
   "metadata": {},
   "outputs": [
    {
     "data": {
      "text/plain": [
       "dict_items([('name', '7D 건조망고'), ('type', '당절임'), ('새로운키', '새로운값'), ('price', '10,000'), ('새로운 딕셔너리', {'a': [10, 0], 'b': [1, 2, 3]}), ('취미', {'a': [12313], 'b': [2132151]})])"
      ]
     },
     "execution_count": 73,
     "metadata": {},
     "output_type": "execute_result"
    }
   ],
   "source": [
    "dict_key.items()"
   ]
  },
  {
   "cell_type": "code",
   "execution_count": 74,
   "id": "627d12e0-eacd-4b0c-b2d4-9d57bbd28a30",
   "metadata": {},
   "outputs": [
    {
     "data": {
      "text/plain": [
       "['name', 'type', '새로운키', 'price', '새로운 딕셔너리', '취미', '위치']"
      ]
     },
     "execution_count": 74,
     "metadata": {},
     "output_type": "execute_result"
    }
   ],
   "source": [
    "temp = list(dict_key.keys())\n",
    "temp.append(\"위치\")\n",
    "temp"
   ]
  },
  {
   "cell_type": "code",
   "execution_count": 75,
   "id": "94bf18f5-aa54-4e44-8fbb-c17e354df1de",
   "metadata": {},
   "outputs": [
    {
     "data": {
      "text/plain": [
       "str"
      ]
     },
     "execution_count": 75,
     "metadata": {},
     "output_type": "execute_result"
    }
   ],
   "source": [
    "type(\"a\")"
   ]
  },
  {
   "cell_type": "markdown",
   "id": "3e8cd1d1-6b96-420c-83e2-5646c6d03449",
   "metadata": {},
   "source": [
    "## 조건문\n",
    "- 00 조건을 만족한다 ==> True\n",
    "  + 그러면, 우리가 옷을 사야지!!\n",
    "- 00 조건을 만족하지 못함 ==> False\n",
    "  + 남의 옷을 얻어 입어야지\n",
    "- if-else"
   ]
  },
  {
   "cell_type": "code",
   "execution_count": 76,
   "id": "221c7ac5-cb07-4841-a486-c400f175af0e",
   "metadata": {},
   "outputs": [
    {
     "name": "stdout",
     "output_type": "stream",
     "text": [
      "1보다 큼\n"
     ]
    }
   ],
   "source": [
    "a = 1\n",
    "if a >= 1 :         # <-------해당되는 조건식을 만드는 것이 핵심\n",
    "    print(\"1보다 큼\")\n",
    "else :\n",
    "    print(\"1보다 작음\")"
   ]
  },
  {
   "cell_type": "code",
   "execution_count": null,
   "id": "d9fae89a-fb50-4e65-b3ed-801edb3dabc2",
   "metadata": {},
   "outputs": [],
   "source": [
    "a = int(input(\"숫자를 입력하세요\"))\n",
    "if 1<a<10 :\n",
    "    print(\"한자리숫자\")\n",
    "else :\n",
    "    print(\"아니다\")"
   ]
  },
  {
   "cell_type": "code",
   "execution_count": 82,
   "id": "f3408219-cb04-40ae-b007-200bd2610e8b",
   "metadata": {},
   "outputs": [
    {
     "name": "stdout",
     "output_type": "stream",
     "text": [
      "True입니다!\n"
     ]
    }
   ],
   "source": [
    "# p.163\n",
    "if True:\n",
    "    print(\"True입니다!\")"
   ]
  },
  {
   "cell_type": "code",
   "execution_count": null,
   "id": "b2fb436c-516a-4932-8678-b18324deeadd",
   "metadata": {},
   "outputs": [],
   "source": [
    "number = input(\"정수 입력해주세요!!!\")\n",
    "number = int(number)\n",
    "\n",
    "# 양수 조건\n",
    "if number > 0 :\n",
    "    print(\"양수\")\n",
    "\n",
    "if number < 0 :\n",
    "    print(\"음수\")\n",
    "\n",
    "if number == 0 :\n",
    "    print(\"0이다\")"
   ]
  },
  {
   "cell_type": "markdown",
   "id": "36bbc8f8-0d26-4988-8e25-7687afce7e09",
   "metadata": {},
   "source": [
    "시나리오\n",
    "- 여러분의 돈이 00 있음\n",
    "- 파이브가이즈 햄버거 세트 가격이 35,000원 이라고 함\n",
    "- 햄버거 먹을 수 있는 상황/그렇지 못한 상황에 대해서 프로그래밍 하세요!"
   ]
  },
  {
   "cell_type": "code",
   "execution_count": null,
   "id": "841067bf-a18f-447c-b35c-0a63fb6a1d85",
   "metadata": {},
   "outputs": [],
   "source": [
    "money = int(input(\"지금 가진 돈을 입력하시오\"))\n",
    "price = 35000\n",
    "\n",
    "if money < price :\n",
    "    print(\"돌아가시오\")\n",
    "\n",
    "if money >= price :\n",
    "    print(\"어서오세요\")"
   ]
  },
  {
   "cell_type": "code",
   "execution_count": null,
   "id": "dc7183f3-7165-4b9d-89ab-3bbfb9a1cabb",
   "metadata": {},
   "outputs": [],
   "source": [
    "money = input(\"지금 가진 돈을 입력하시오\")\n",
    "money = int(money)\n",
    "\n",
    "\n",
    "if money < 35000 :\n",
    "    print(\"돌아가시오\")\n",
    "\n",
    "else :\n",
    "    print(\"어서오시오\")"
   ]
  },
  {
   "cell_type": "markdown",
   "id": "7e44de83-c805-4200-bd71-f4af60589184",
   "metadata": {},
   "source": [
    "## 날짜/시간 활용하기\n",
    "- datetime(파이썬 기본 라이브러리)\n",
    "  + \n",
    "- pandas to_datetime :\n",
    "https://pandas.pydata.org/docs/reference/api/pandas.to_datetime.html"
   ]
  },
  {
   "cell_type": "code",
   "execution_count": 23,
   "id": "07ee1b46-624a-4d47-a015-81f73352420f",
   "metadata": {},
   "outputs": [
    {
     "name": "stdout",
     "output_type": "stream",
     "text": [
      "Hour: 14\n",
      "Minute: 34\n",
      "Second: 0\n",
      "Microsecond: 828882\n"
     ]
    }
   ],
   "source": [
    "from datetime import time\n",
    "\n",
    "# 시간 객체 생성\n",
    "t = datetime.now().time()\n",
    "\n",
    "# 속성 접근\n",
    "print(\"Hour:\", t.hour)          # 출력: Hour: 14\n",
    "print(\"Minute:\", t.minute)      # 출력: Minute: 30\n",
    "print(\"Second:\", t.second)      # 출력: Second: 45\n",
    "print(\"Microsecond:\", t.microsecond)  # 출력: Microsecond: 123456\n"
   ]
  },
  {
   "cell_type": "code",
   "execution_count": 25,
   "id": "4e048255-e8d1-4075-8a64-ed8052fc3f5e",
   "metadata": {},
   "outputs": [
    {
     "data": {
      "text/plain": [
       "datetime.datetime(2024, 6, 27, 14, 39, 16, 483117)"
      ]
     },
     "execution_count": 25,
     "metadata": {},
     "output_type": "execute_result"
    }
   ],
   "source": [
    "import datetime\n",
    "\n",
    "now = datetime.datetime.now()\n",
    "now"
   ]
  },
  {
   "cell_type": "code",
   "execution_count": 27,
   "id": "9cce6c58-891f-4e0c-8092-18c26fb1d9f2",
   "metadata": {},
   "outputs": [
    {
     "name": "stdout",
     "output_type": "stream",
     "text": [
      "6 월\n"
     ]
    }
   ],
   "source": [
    "print(now.month,\"월\")"
   ]
  },
  {
   "cell_type": "code",
   "execution_count": 32,
   "id": "700c1f08-1c40-4ee4-9a49-f1a69f929e6c",
   "metadata": {},
   "outputs": [
    {
     "name": "stdout",
     "output_type": "stream",
     "text": [
      "2024년 6월 27일 14시\n"
     ]
    }
   ],
   "source": [
    "print(f'{now.year}년 {now.month}월 {now.day}일 {now.hour}시')"
   ]
  },
  {
   "cell_type": "markdown",
   "id": "93af6444-1466-4525-aac8-a5b1c51f666a",
   "metadata": {},
   "source": [
    "## if-else와 elif 구문"
   ]
  },
  {
   "cell_type": "code",
   "execution_count": 38,
   "id": "1d618247-4310-4770-9d22-371a7230464a",
   "metadata": {},
   "outputs": [
    {
     "name": "stdout",
     "output_type": "stream",
     "text": [
      "여름\n"
     ]
    }
   ],
   "source": [
    "import datetime\n",
    "\n",
    "#현재 날짜와 시간 구하기\n",
    "#월 추출해서 현재 계절 확인\n",
    "now = datetime.datetime.now()\n",
    "month = now.month\n",
    "type(month)\n",
    "\n",
    "if 3 <= month <= 5 :\n",
    "    print(\"봄\")\n",
    "elif 6<= month <= 8 :\n",
    "    print(\"여름\")\n",
    "elif 9<= month <= 11 :\n",
    "    print(\"가을\")\n",
    "else :\n",
    "    print(\"겨울\")"
   ]
  },
  {
   "cell_type": "code",
   "execution_count": 42,
   "id": "d98472d8-7f28-4822-a8a1-0f1e3adbfe48",
   "metadata": {},
   "outputs": [
    {
     "name": "stdin",
     "output_type": "stream",
     "text": [
      "숫자를 입력하셍 45\n"
     ]
    },
    {
     "name": "stdout",
     "output_type": "stream",
     "text": [
      "완료\n"
     ]
    }
   ],
   "source": [
    "num = int(input(\"숫자를 입력하셍\"))\n",
    "\n",
    "if num >= 0 :\n",
    "    #코드 디테일하게 작성\n",
    "    num2 = num\n",
    "    pass\n",
    "else :\n",
    "    pass\n",
    "\n",
    "print(\"완료\")\n"
   ]
  },
  {
   "cell_type": "code",
   "execution_count": 46,
   "id": "b8c676bb-b36e-49d7-a087-1c388e77bf2d",
   "metadata": {},
   "outputs": [
    {
     "name": "stdin",
     "output_type": "stream",
     "text": [
      "숫자를 입력하셍 57'\n"
     ]
    },
    {
     "ename": "ValueError",
     "evalue": "invalid literal for int() with base 10: \"57'\"",
     "output_type": "error",
     "traceback": [
      "\u001b[1;31m---------------------------------------------------------------------------\u001b[0m",
      "\u001b[1;31mValueError\u001b[0m                                Traceback (most recent call last)",
      "Cell \u001b[1;32mIn[46], line 1\u001b[0m\n\u001b[1;32m----> 1\u001b[0m num \u001b[38;5;241m=\u001b[39m \u001b[38;5;28;43mint\u001b[39;49m\u001b[43m(\u001b[49m\u001b[38;5;28;43minput\u001b[39;49m\u001b[43m(\u001b[49m\u001b[38;5;124;43m\"\u001b[39;49m\u001b[38;5;124;43m숫자를 입력하셍\u001b[39;49m\u001b[38;5;124;43m\"\u001b[39;49m\u001b[43m)\u001b[49m\u001b[43m)\u001b[49m\n\u001b[0;32m      3\u001b[0m \u001b[38;5;28;01mif\u001b[39;00m num \u001b[38;5;241m>\u001b[39m\u001b[38;5;241m=\u001b[39m \u001b[38;5;241m0\u001b[39m :\n\u001b[0;32m      4\u001b[0m     \n\u001b[0;32m      5\u001b[0m     \u001b[38;5;66;03m#미구현상태 미루는거\u001b[39;00m\n\u001b[0;32m      6\u001b[0m     \u001b[38;5;28;01mraise\u001b[39;00m \u001b[38;5;167;01mNotImplementedError\u001b[39;00m\n",
      "\u001b[1;31mValueError\u001b[0m: invalid literal for int() with base 10: \"57'\""
     ]
    }
   ],
   "source": [
    "num = int(input(\"숫자를 입력하셍\"))\n",
    "\n",
    "if num >= 0 :\n",
    "    \n",
    "    #미구현상태 미루는거\n",
    "    raise NotImplementedError\n",
    "else :\n",
    "    raise NotImplementedError\n",
    "\n",
    "print(\"완료\")"
   ]
  },
  {
   "cell_type": "markdown",
   "id": "4f699649-143a-4d8b-90d8-51e0b6364903",
   "metadata": {},
   "source": [
    "## for 반복문\n",
    "- p.207\n",
    "- 몇번을 반복해야 하는지 사용자가 지정"
   ]
  },
  {
   "cell_type": "code",
   "execution_count": 48,
   "id": "9830a5ef-f602-42d3-97ec-c51ad1893efb",
   "metadata": {},
   "outputs": [
    {
     "name": "stdout",
     "output_type": "stream",
     "text": [
      "출력\n",
      "출력\n",
      "출력\n"
     ]
    }
   ],
   "source": [
    "for i in range(3):  # 처음에 범위 지정 할 때, 3번 정도 확인 후 ==> 확장\n",
    "    print(\"출력\")"
   ]
  },
  {
   "cell_type": "code",
   "execution_count": 47,
   "id": "6f20b937-14ab-4653-b329-89a190478609",
   "metadata": {},
   "outputs": [
    {
     "name": "stdout",
     "output_type": "stream",
     "text": [
      "출력\n",
      "출력\n"
     ]
    }
   ],
   "source": [
    "print(\"출력\")\n",
    "print(\"출력\")"
   ]
  },
  {
   "cell_type": "code",
   "execution_count": 49,
   "id": "df71cac2-a372-4dde-85a5-d137aaf7f6bd",
   "metadata": {},
   "outputs": [
    {
     "name": "stdout",
     "output_type": "stream",
     "text": [
      "273\n",
      "32\n",
      "103\n",
      "57\n",
      "52\n"
     ]
    }
   ],
   "source": [
    "# p.209\n",
    "array = [273, 32, 103, 57, 52]\n",
    "\n",
    "for element in array:\n",
    "    print(element)"
   ]
  },
  {
   "cell_type": "code",
   "execution_count": 53,
   "id": "d5f25ef2-b673-4b58-9381-3898b8861f56",
   "metadata": {},
   "outputs": [
    {
     "name": "stdout",
     "output_type": "stream",
     "text": [
      "afdas\n",
      "afdb\n",
      "dsc\n",
      "d\n",
      "e\n"
     ]
    }
   ],
   "source": [
    "text = [\"afdas\", \"afdb\", \"dsc\", \"d\",\"e\"]\n",
    "\n",
    "for element in array:\n",
    "    print(element)"
   ]
  },
  {
   "cell_type": "code",
   "execution_count": 57,
   "id": "5a274230-83ba-43ba-a0b1-36cea2df6e0d",
   "metadata": {},
   "outputs": [
    {
     "ename": "TypeError",
     "evalue": "'int' object is not iterable",
     "output_type": "error",
     "traceback": [
      "\u001b[1;31m---------------------------------------------------------------------------\u001b[0m",
      "\u001b[1;31mTypeError\u001b[0m                                 Traceback (most recent call last)",
      "Cell \u001b[1;32mIn[57], line 3\u001b[0m\n\u001b[0;32m      1\u001b[0m tuple_a \u001b[38;5;241m=\u001b[39m (\u001b[38;5;241m1231422\u001b[39m)\n\u001b[1;32m----> 3\u001b[0m \u001b[38;5;28;43;01mfor\u001b[39;49;00m\u001b[43m \u001b[49m\u001b[43melement\u001b[49m\u001b[43m \u001b[49m\u001b[38;5;129;43;01min\u001b[39;49;00m\u001b[43m \u001b[49m\u001b[43mtuple_a\u001b[49m\u001b[43m:\u001b[49m\n\u001b[0;32m      4\u001b[0m \u001b[43m    \u001b[49m\u001b[38;5;28;43mprint\u001b[39;49m\u001b[43m(\u001b[49m\u001b[43melement\u001b[49m\u001b[43m)\u001b[49m\n",
      "\u001b[1;31mTypeError\u001b[0m: 'int' object is not iterable"
     ]
    }
   ],
   "source": [
    "tuple_a = (1231422)\n",
    "\n",
    "for element in tuple_a:\n",
    "    print(element)"
   ]
  },
  {
   "cell_type": "markdown",
   "id": "97607a7c-237f-4767-8f30-10ca439bc640",
   "metadata": {},
   "source": [
    "## 문제\n",
    "- 반복문을 쓰고 싶음. 근데 interable만 가능하다고 함.\n",
    "- 문제 : 자료형이 iterable인지 ㅇ나니지 알고 싶음. 그래서 iterable이면 반복문 수행 하도록 if-조건문 만들기\n",
    "  + chatGPT에게 함수 물어보세요!!"
   ]
  },
  {
   "cell_type": "code",
   "execution_count": 60,
   "id": "4166ebae-3bc4-45c7-9b2c-60b6aafae57a",
   "metadata": {},
   "outputs": [
    {
     "name": "stdin",
     "output_type": "stream",
     "text": [
      "자료를 입력하세요:  [1,5,6,5,51]\n"
     ]
    },
    {
     "name": "stdout",
     "output_type": "stream",
     "text": [
      "iterable입니다\n"
     ]
    }
   ],
   "source": [
    "from collections.abc import Iterable\n",
    "\n",
    "# 함수 정의\n",
    "def is_iterable(obj):\n",
    "    return isinstance(obj, Iterable)\n",
    "\n",
    "# 사용자 입력 받기\n",
    "user_input = input(\"자료를 입력하세요: \")\n",
    "\n",
    "# 입력값의 타입을 변경 시도\n",
    "try:\n",
    "    # 입력값을 평가하여 데이터 타입을 결정합니다.\n",
    "    evaluated_input = eval(user_input)\n",
    "except:\n",
    "    # 평가가 실패하면 입력을 그대로 사용합니다.\n",
    "    evaluated_input = user_input\n",
    "\n",
    "# 결과 확인\n",
    "if is_iterable(evaluated_input):\n",
    "    print(\"iterable입니다\")\n",
    "else:\n",
    "    print(\"not iterable입니다\")\n"
   ]
  },
  {
   "cell_type": "code",
   "execution_count": 85,
   "id": "fddb1688-4d9b-45fb-9a03-ea03781448e0",
   "metadata": {},
   "outputs": [
    {
     "name": "stdout",
     "output_type": "stream",
     "text": [
      "e\n",
      "e\n",
      "e\n",
      "e\n",
      "e\n",
      "e\n"
     ]
    }
   ],
   "source": [
    "test = dict_key.values()\n",
    "for elemenet in test:\n",
    "    print(element)"
   ]
  },
  {
   "cell_type": "code",
   "execution_count": 86,
   "id": "78656fef-cd8a-40d4-825e-e9c89c6332ef",
   "metadata": {},
   "outputs": [
    {
     "name": "stdin",
     "output_type": "stream",
     "text": [
      "자료를 입력하세요:  test\n"
     ]
    },
    {
     "name": "stdout",
     "output_type": "stream",
     "text": [
      "iterable입니다\n",
      "dict_values(['7D 건조망고', '당절임', '새로운값', '10,000', {'a': [10, 0], 'b': [1, 2, 3]}, {'a': [12313], 'b': [2132151]}])\n",
      "dict_values(['7D 건조망고', '당절임', '새로운값', '10,000', {'a': [10, 0], 'b': [1, 2, 3]}, {'a': [12313], 'b': [2132151]}])\n",
      "dict_values(['7D 건조망고', '당절임', '새로운값', '10,000', {'a': [10, 0], 'b': [1, 2, 3]}, {'a': [12313], 'b': [2132151]}])\n"
     ]
    }
   ],
   "source": [
    "from collections.abc import Iterable\n",
    "\n",
    "# 함수 정의\n",
    "def is_iterable(obj):\n",
    "    return isinstance(obj, Iterable)\n",
    "\n",
    "# 사용자 입력 받기\n",
    "user_input = input(\"자료를 입력하세요: \")\n",
    "\n",
    "# 입력값의 타입을 변경 시도\n",
    "try:\n",
    "    # 입력값을 평가하여 데이터 타입을 결정합니다.\n",
    "    evaluated_input = eval(user_input)\n",
    "except:\n",
    "    # 평가가 실패하면 입력을 그대로 사용합니다.\n",
    "    evaluated_input = user_input\n",
    "\n",
    "# 결과 확인 및 출력\n",
    "if is_iterable(evaluated_input):\n",
    "    print(\"iterable입니다\")\n",
    "    for _ in range(3):\n",
    "        print(evaluated_input)\n",
    "else:\n",
    "    print(\"not iterable입니다\")\n"
   ]
  },
  {
   "cell_type": "code",
   "execution_count": 91,
   "id": "d82b8a97-34ff-4219-a148-a97f25ff4702",
   "metadata": {},
   "outputs": [
    {
     "name": "stdout",
     "output_type": "stream",
     "text": [
      "[1, 2, 3]\n",
      "1\n",
      "2\n",
      "3\n",
      "[4, 5, 6, 7]\n",
      "4\n",
      "5\n",
      "6\n",
      "7\n",
      "[8, 9]\n",
      "8\n",
      "9\n"
     ]
    }
   ],
   "source": [
    "list_of_list = [[1, 2, 3],[4, 5, 6, 7],[8, 9]]\n",
    "list_of_list\n",
    "\n",
    "for items in list_of_list:\n",
    "    print(items)\n",
    "    for item in items:\n",
    "        print(item)"
   ]
  },
  {
   "cell_type": "code",
   "execution_count": 95,
   "id": "9040f500-53ed-478f-bb85-5e8c96154a7a",
   "metadata": {
    "collapsed": true,
    "jupyter": {
     "outputs_hidden": true
    },
    "scrolled": true
   },
   "outputs": [
    {
     "name": "stdout",
     "output_type": "stream",
     "text": [
      "1 x 1 = 1\n",
      "1 x 2 = 2\n",
      "1 x 3 = 3\n",
      "1 x 4 = 4\n",
      "1 x 5 = 5\n",
      "1 x 6 = 6\n",
      "1 x 7 = 7\n",
      "1 x 8 = 8\n",
      "1 x 9 = 9\n",
      "\n",
      "2 x 1 = 2\n",
      "2 x 2 = 4\n",
      "2 x 3 = 6\n",
      "2 x 4 = 8\n",
      "2 x 5 = 10\n",
      "2 x 6 = 12\n",
      "2 x 7 = 14\n",
      "2 x 8 = 16\n",
      "2 x 9 = 18\n",
      "\n",
      "3 x 1 = 3\n",
      "3 x 2 = 6\n",
      "3 x 3 = 9\n",
      "3 x 4 = 12\n",
      "3 x 5 = 15\n",
      "3 x 6 = 18\n",
      "3 x 7 = 21\n",
      "3 x 8 = 24\n",
      "3 x 9 = 27\n",
      "\n",
      "4 x 1 = 4\n",
      "4 x 2 = 8\n",
      "4 x 3 = 12\n",
      "4 x 4 = 16\n",
      "4 x 5 = 20\n",
      "4 x 6 = 24\n",
      "4 x 7 = 28\n",
      "4 x 8 = 32\n",
      "4 x 9 = 36\n",
      "\n",
      "5 x 1 = 5\n",
      "5 x 2 = 10\n",
      "5 x 3 = 15\n",
      "5 x 4 = 20\n",
      "5 x 5 = 25\n",
      "5 x 6 = 30\n",
      "5 x 7 = 35\n",
      "5 x 8 = 40\n",
      "5 x 9 = 45\n",
      "\n",
      "6 x 1 = 6\n",
      "6 x 2 = 12\n",
      "6 x 3 = 18\n",
      "6 x 4 = 24\n",
      "6 x 5 = 30\n",
      "6 x 6 = 36\n",
      "6 x 7 = 42\n",
      "6 x 8 = 48\n",
      "6 x 9 = 54\n",
      "\n",
      "7 x 1 = 7\n",
      "7 x 2 = 14\n",
      "7 x 3 = 21\n",
      "7 x 4 = 28\n",
      "7 x 5 = 35\n",
      "7 x 6 = 42\n",
      "7 x 7 = 49\n",
      "7 x 8 = 56\n",
      "7 x 9 = 63\n",
      "\n",
      "8 x 1 = 8\n",
      "8 x 2 = 16\n",
      "8 x 3 = 24\n",
      "8 x 4 = 32\n",
      "8 x 5 = 40\n",
      "8 x 6 = 48\n",
      "8 x 7 = 56\n",
      "8 x 8 = 64\n",
      "8 x 9 = 72\n",
      "\n",
      "9 x 1 = 9\n",
      "9 x 2 = 18\n",
      "9 x 3 = 27\n",
      "9 x 4 = 36\n",
      "9 x 5 = 45\n",
      "9 x 6 = 54\n",
      "9 x 7 = 63\n",
      "9 x 8 = 72\n",
      "9 x 9 = 81\n",
      "\n"
     ]
    }
   ],
   "source": [
    "for i in range(1, 10):\n",
    "    for j in range(1, 10):\n",
    "        print(f'{i} x {j} = {i*j}')\n",
    "    print()\n",
    "    "
   ]
  },
  {
   "cell_type": "code",
   "execution_count": 98,
   "id": "39cb85e5-5f7a-4877-8824-bb02959d5060",
   "metadata": {
    "collapsed": true,
    "jupyter": {
     "outputs_hidden": true
    },
    "scrolled": true
   },
   "outputs": [
    {
     "name": "stdout",
     "output_type": "stream",
     "text": [
      "1 x 1 = 1\n",
      "1 x 2 = 2\n",
      "1 x 3 = 3\n",
      "1 x 4 = 4\n",
      "1 x 5 = 5\n",
      "1 x 6 = 6\n",
      "1 x 7 = 7\n",
      "1 x 8 = 8\n",
      "1 x 9 = 9\n",
      "1 x 10 = 10\n",
      "1 x 11 = 11\n",
      "1 x 12 = 12\n",
      "1 x 13 = 13\n",
      "1 x 14 = 14\n",
      "1 x 15 = 15\n",
      "1 x 16 = 16\n",
      "1 x 17 = 17\n",
      "1 x 18 = 18\n",
      "1 x 19 = 19\n",
      "\n",
      "2 x 1 = 2\n",
      "2 x 2 = 4\n",
      "2 x 3 = 6\n",
      "2 x 4 = 8\n",
      "2 x 5 = 10\n",
      "2 x 6 = 12\n",
      "2 x 7 = 14\n",
      "2 x 8 = 16\n",
      "2 x 9 = 18\n",
      "2 x 10 = 20\n",
      "2 x 11 = 22\n",
      "2 x 12 = 24\n",
      "2 x 13 = 26\n",
      "2 x 14 = 28\n",
      "2 x 15 = 30\n",
      "2 x 16 = 32\n",
      "2 x 17 = 34\n",
      "2 x 18 = 36\n",
      "2 x 19 = 38\n",
      "\n",
      "3 x 1 = 3\n",
      "3 x 2 = 6\n",
      "3 x 3 = 9\n",
      "3 x 4 = 12\n",
      "3 x 5 = 15\n",
      "3 x 6 = 18\n",
      "3 x 7 = 21\n",
      "3 x 8 = 24\n",
      "3 x 9 = 27\n",
      "3 x 10 = 30\n",
      "3 x 11 = 33\n",
      "3 x 12 = 36\n",
      "3 x 13 = 39\n",
      "3 x 14 = 42\n",
      "3 x 15 = 45\n",
      "3 x 16 = 48\n",
      "3 x 17 = 51\n",
      "3 x 18 = 54\n",
      "3 x 19 = 57\n",
      "\n",
      "4 x 1 = 4\n",
      "4 x 2 = 8\n",
      "4 x 3 = 12\n",
      "4 x 4 = 16\n",
      "4 x 5 = 20\n",
      "4 x 6 = 24\n",
      "4 x 7 = 28\n",
      "4 x 8 = 32\n",
      "4 x 9 = 36\n",
      "4 x 10 = 40\n",
      "4 x 11 = 44\n",
      "4 x 12 = 48\n",
      "4 x 13 = 52\n",
      "4 x 14 = 56\n",
      "4 x 15 = 60\n",
      "4 x 16 = 64\n",
      "4 x 17 = 68\n",
      "4 x 18 = 72\n",
      "4 x 19 = 76\n",
      "\n",
      "5 x 1 = 5\n",
      "5 x 2 = 10\n",
      "5 x 3 = 15\n",
      "5 x 4 = 20\n",
      "5 x 5 = 25\n",
      "5 x 6 = 30\n",
      "5 x 7 = 35\n",
      "5 x 8 = 40\n",
      "5 x 9 = 45\n",
      "5 x 10 = 50\n",
      "5 x 11 = 55\n",
      "5 x 12 = 60\n",
      "5 x 13 = 65\n",
      "5 x 14 = 70\n",
      "5 x 15 = 75\n",
      "5 x 16 = 80\n",
      "5 x 17 = 85\n",
      "5 x 18 = 90\n",
      "5 x 19 = 95\n",
      "\n",
      "6 x 1 = 6\n",
      "6 x 2 = 12\n",
      "6 x 3 = 18\n",
      "6 x 4 = 24\n",
      "6 x 5 = 30\n",
      "6 x 6 = 36\n",
      "6 x 7 = 42\n",
      "6 x 8 = 48\n",
      "6 x 9 = 54\n",
      "6 x 10 = 60\n",
      "6 x 11 = 66\n",
      "6 x 12 = 72\n",
      "6 x 13 = 78\n",
      "6 x 14 = 84\n",
      "6 x 15 = 90\n",
      "6 x 16 = 96\n",
      "6 x 17 = 102\n",
      "6 x 18 = 108\n",
      "6 x 19 = 114\n",
      "\n",
      "7 x 1 = 7\n",
      "7 x 2 = 14\n",
      "7 x 3 = 21\n",
      "7 x 4 = 28\n",
      "7 x 5 = 35\n",
      "7 x 6 = 42\n",
      "7 x 7 = 49\n",
      "7 x 8 = 56\n",
      "7 x 9 = 63\n",
      "7 x 10 = 70\n",
      "7 x 11 = 77\n",
      "7 x 12 = 84\n",
      "7 x 13 = 91\n",
      "7 x 14 = 98\n",
      "7 x 15 = 105\n",
      "7 x 16 = 112\n",
      "7 x 17 = 119\n",
      "7 x 18 = 126\n",
      "7 x 19 = 133\n",
      "\n",
      "8 x 1 = 8\n",
      "8 x 2 = 16\n",
      "8 x 3 = 24\n",
      "8 x 4 = 32\n",
      "8 x 5 = 40\n",
      "8 x 6 = 48\n",
      "8 x 7 = 56\n",
      "8 x 8 = 64\n",
      "8 x 9 = 72\n",
      "8 x 10 = 80\n",
      "8 x 11 = 88\n",
      "8 x 12 = 96\n",
      "8 x 13 = 104\n",
      "8 x 14 = 112\n",
      "8 x 15 = 120\n",
      "8 x 16 = 128\n",
      "8 x 17 = 136\n",
      "8 x 18 = 144\n",
      "8 x 19 = 152\n",
      "\n",
      "9 x 1 = 9\n",
      "9 x 2 = 18\n",
      "9 x 3 = 27\n",
      "9 x 4 = 36\n",
      "9 x 5 = 45\n",
      "9 x 6 = 54\n",
      "9 x 7 = 63\n",
      "9 x 8 = 72\n",
      "9 x 9 = 81\n",
      "9 x 10 = 90\n",
      "9 x 11 = 99\n",
      "9 x 12 = 108\n",
      "9 x 13 = 117\n",
      "9 x 14 = 126\n",
      "9 x 15 = 135\n",
      "9 x 16 = 144\n",
      "9 x 17 = 153\n",
      "9 x 18 = 162\n",
      "9 x 19 = 171\n",
      "\n",
      "10 x 1 = 10\n",
      "10 x 2 = 20\n",
      "10 x 3 = 30\n",
      "10 x 4 = 40\n",
      "10 x 5 = 50\n",
      "10 x 6 = 60\n",
      "10 x 7 = 70\n",
      "10 x 8 = 80\n",
      "10 x 9 = 90\n",
      "10 x 10 = 100\n",
      "10 x 11 = 110\n",
      "10 x 12 = 120\n",
      "10 x 13 = 130\n",
      "10 x 14 = 140\n",
      "10 x 15 = 150\n",
      "10 x 16 = 160\n",
      "10 x 17 = 170\n",
      "10 x 18 = 180\n",
      "10 x 19 = 190\n",
      "\n",
      "11 x 1 = 11\n",
      "11 x 2 = 22\n",
      "11 x 3 = 33\n",
      "11 x 4 = 44\n",
      "11 x 5 = 55\n",
      "11 x 6 = 66\n",
      "11 x 7 = 77\n",
      "11 x 8 = 88\n",
      "11 x 9 = 99\n",
      "11 x 10 = 110\n",
      "11 x 11 = 121\n",
      "11 x 12 = 132\n",
      "11 x 13 = 143\n",
      "11 x 14 = 154\n",
      "11 x 15 = 165\n",
      "11 x 16 = 176\n",
      "11 x 17 = 187\n",
      "11 x 18 = 198\n",
      "11 x 19 = 209\n",
      "\n",
      "12 x 1 = 12\n",
      "12 x 2 = 24\n",
      "12 x 3 = 36\n",
      "12 x 4 = 48\n",
      "12 x 5 = 60\n",
      "12 x 6 = 72\n",
      "12 x 7 = 84\n",
      "12 x 8 = 96\n",
      "12 x 9 = 108\n",
      "12 x 10 = 120\n",
      "12 x 11 = 132\n",
      "12 x 12 = 144\n",
      "12 x 13 = 156\n",
      "12 x 14 = 168\n",
      "12 x 15 = 180\n",
      "12 x 16 = 192\n",
      "12 x 17 = 204\n",
      "12 x 18 = 216\n",
      "12 x 19 = 228\n",
      "\n",
      "13 x 1 = 13\n",
      "13 x 2 = 26\n",
      "13 x 3 = 39\n",
      "13 x 4 = 52\n",
      "13 x 5 = 65\n",
      "13 x 6 = 78\n",
      "13 x 7 = 91\n",
      "13 x 8 = 104\n",
      "13 x 9 = 117\n",
      "13 x 10 = 130\n",
      "13 x 11 = 143\n",
      "13 x 12 = 156\n",
      "13 x 13 = 169\n",
      "13 x 14 = 182\n",
      "13 x 15 = 195\n",
      "13 x 16 = 208\n",
      "13 x 17 = 221\n",
      "13 x 18 = 234\n",
      "13 x 19 = 247\n",
      "\n",
      "14 x 1 = 14\n",
      "14 x 2 = 28\n",
      "14 x 3 = 42\n",
      "14 x 4 = 56\n",
      "14 x 5 = 70\n",
      "14 x 6 = 84\n",
      "14 x 7 = 98\n",
      "14 x 8 = 112\n",
      "14 x 9 = 126\n",
      "14 x 10 = 140\n",
      "14 x 11 = 154\n",
      "14 x 12 = 168\n",
      "14 x 13 = 182\n",
      "14 x 14 = 196\n",
      "14 x 15 = 210\n",
      "14 x 16 = 224\n",
      "14 x 17 = 238\n",
      "14 x 18 = 252\n",
      "14 x 19 = 266\n",
      "\n",
      "15 x 1 = 15\n",
      "15 x 2 = 30\n",
      "15 x 3 = 45\n",
      "15 x 4 = 60\n",
      "15 x 5 = 75\n",
      "15 x 6 = 90\n",
      "15 x 7 = 105\n",
      "15 x 8 = 120\n",
      "15 x 9 = 135\n",
      "15 x 10 = 150\n",
      "15 x 11 = 165\n",
      "15 x 12 = 180\n",
      "15 x 13 = 195\n",
      "15 x 14 = 210\n",
      "15 x 15 = 225\n",
      "15 x 16 = 240\n",
      "15 x 17 = 255\n",
      "15 x 18 = 270\n",
      "15 x 19 = 285\n",
      "\n",
      "16 x 1 = 16\n",
      "16 x 2 = 32\n",
      "16 x 3 = 48\n",
      "16 x 4 = 64\n",
      "16 x 5 = 80\n",
      "16 x 6 = 96\n",
      "16 x 7 = 112\n",
      "16 x 8 = 128\n",
      "16 x 9 = 144\n",
      "16 x 10 = 160\n",
      "16 x 11 = 176\n",
      "16 x 12 = 192\n",
      "16 x 13 = 208\n",
      "16 x 14 = 224\n",
      "16 x 15 = 240\n",
      "16 x 16 = 256\n",
      "16 x 17 = 272\n",
      "16 x 18 = 288\n",
      "16 x 19 = 304\n",
      "\n",
      "17 x 1 = 17\n",
      "17 x 2 = 34\n",
      "17 x 3 = 51\n",
      "17 x 4 = 68\n",
      "17 x 5 = 85\n",
      "17 x 6 = 102\n",
      "17 x 7 = 119\n",
      "17 x 8 = 136\n",
      "17 x 9 = 153\n",
      "17 x 10 = 170\n",
      "17 x 11 = 187\n",
      "17 x 12 = 204\n",
      "17 x 13 = 221\n",
      "17 x 14 = 238\n",
      "17 x 15 = 255\n",
      "17 x 16 = 272\n",
      "17 x 17 = 289\n",
      "17 x 18 = 306\n",
      "17 x 19 = 323\n",
      "\n",
      "18 x 1 = 18\n",
      "18 x 2 = 36\n",
      "18 x 3 = 54\n",
      "18 x 4 = 72\n",
      "18 x 5 = 90\n",
      "18 x 6 = 108\n",
      "18 x 7 = 126\n",
      "18 x 8 = 144\n",
      "18 x 9 = 162\n",
      "18 x 10 = 180\n",
      "18 x 11 = 198\n",
      "18 x 12 = 216\n",
      "18 x 13 = 234\n",
      "18 x 14 = 252\n",
      "18 x 15 = 270\n",
      "18 x 16 = 288\n",
      "18 x 17 = 306\n",
      "18 x 18 = 324\n",
      "18 x 19 = 342\n",
      "\n",
      "19 x 1 = 19\n",
      "19 x 2 = 38\n",
      "19 x 3 = 57\n",
      "19 x 4 = 76\n",
      "19 x 5 = 95\n",
      "19 x 6 = 114\n",
      "19 x 7 = 133\n",
      "19 x 8 = 152\n",
      "19 x 9 = 171\n",
      "19 x 10 = 190\n",
      "19 x 11 = 209\n",
      "19 x 12 = 228\n",
      "19 x 13 = 247\n",
      "19 x 14 = 266\n",
      "19 x 15 = 285\n",
      "19 x 16 = 304\n",
      "19 x 17 = 323\n",
      "19 x 18 = 342\n",
      "19 x 19 = 361\n",
      "\n"
     ]
    }
   ],
   "source": [
    "for i in range(1,20):\n",
    "    for j in range(1,20):\n",
    "        print(f\"{i} x {j} = {i*j}\")\n",
    "    print()\n"
   ]
  },
  {
   "cell_type": "code",
   "execution_count": 111,
   "id": "2f74cc40-f9aa-416b-9184-115a883bfada",
   "metadata": {
    "collapsed": true,
    "jupyter": {
     "outputs_hidden": true
    },
    "scrolled": true
   },
   "outputs": [
    {
     "name": "stdout",
     "output_type": "stream",
     "text": [
      "2 X 1 는 2\n",
      "2 X 2 는 4\n",
      "2 X 3 는 6\n",
      "2 X 4 는 8\n",
      "2 X 5 는 10\n",
      "2 X 6 는 12\n",
      "2 X 7 는 14\n",
      "2 X 8 는 16\n",
      "2 X 9 는 18\n",
      "3 X 1 는 3\n",
      "3 X 2 는 6\n",
      "3 X 3 는 9\n",
      "3 X 4 는 12\n",
      "3 X 5 는 15\n",
      "3 X 6 는 18\n",
      "3 X 7 는 21\n",
      "3 X 8 는 24\n",
      "3 X 9 는 27\n",
      "4 X 1 는 4\n",
      "4 X 2 는 8\n",
      "4 X 3 는 12\n",
      "4 X 4 는 16\n",
      "4 X 5 는 20\n",
      "4 X 6 는 24\n",
      "4 X 7 는 28\n",
      "4 X 8 는 32\n",
      "4 X 9 는 36\n",
      "5 X 1 는 5\n",
      "5 X 2 는 10\n",
      "5 X 3 는 15\n",
      "5 X 4 는 20\n",
      "5 X 5 는 25\n",
      "5 X 6 는 30\n",
      "5 X 7 는 35\n",
      "5 X 8 는 40\n",
      "5 X 9 는 45\n",
      "6 X 1 는 6\n",
      "6 X 2 는 12\n",
      "6 X 3 는 18\n",
      "6 X 4 는 24\n",
      "6 X 5 는 30\n",
      "6 X 6 는 36\n",
      "6 X 7 는 42\n",
      "6 X 8 는 48\n",
      "6 X 9 는 54\n",
      "7 X 1 는 7\n",
      "7 X 2 는 14\n",
      "7 X 3 는 21\n",
      "7 X 4 는 28\n",
      "7 X 5 는 35\n",
      "7 X 6 는 42\n",
      "7 X 7 는 49\n",
      "7 X 8 는 56\n",
      "7 X 9 는 63\n",
      "8 X 1 는 8\n",
      "8 X 2 는 16\n",
      "8 X 3 는 24\n",
      "8 X 4 는 32\n",
      "8 X 5 는 40\n",
      "8 X 6 는 48\n",
      "8 X 7 는 56\n",
      "8 X 8 는 64\n",
      "8 X 9 는 72\n",
      "9 X 1 는 9\n",
      "9 X 2 는 18\n",
      "9 X 3 는 27\n",
      "9 X 4 는 36\n",
      "9 X 5 는 45\n",
      "9 X 6 는 54\n",
      "9 X 7 는 63\n",
      "9 X 8 는 72\n",
      "9 X 9 는 81\n"
     ]
    }
   ],
   "source": [
    "num1 = [2,3,4,5,6,7,8,9]\n",
    "num2 = [1,2,3,4,5,6,7,8,9]\n",
    "\n",
    "for a in num1:\n",
    "    #print(a) 한 번 해보고 가기 반복문을 꼭 바로 하겠다는 생각은 버릴것\n",
    "    for b in num2:\n",
    "        print(f'{a} X {b} 는 {a*b}')"
   ]
  },
  {
   "cell_type": "markdown",
   "id": "378d6c1b-5b21-4b71-a728-c1eff8c2e21d",
   "metadata": {},
   "source": [
    "## 리스트 컴프리헨션\n",
    "- pythonic한 코드\n",
    "- 반복문을 한줄로 처리\n",
    "- 결괏값은 리스트로 반환"
   ]
  },
  {
   "cell_type": "code",
   "execution_count": 115,
   "id": "8610fcbe-2315-4b18-9155-5a0802151bf1",
   "metadata": {},
   "outputs": [
    {
     "name": "stdout",
     "output_type": "stream",
     "text": [
      "3\n",
      "6\n",
      "9\n",
      "12\n"
     ]
    },
    {
     "data": {
      "text/plain": [
       "[3, 6, 9, 12]"
      ]
     },
     "execution_count": 115,
     "metadata": {},
     "output_type": "execute_result"
    }
   ],
   "source": [
    "a = [1, 2, 3, 4]\n",
    "result = []\n",
    "for num in a:\n",
    "    print(num * 3)\n",
    "    result.append(num * 3)\n",
    "\n",
    "result\n",
    "#코드 암기 이 코드 방식 정말 많이씀"
   ]
  },
  {
   "cell_type": "code",
   "execution_count": 117,
   "id": "75c3ec8e-3970-4c22-a85a-92a47fa750df",
   "metadata": {},
   "outputs": [
    {
     "data": {
      "text/plain": [
       "[3, 6, 9, 12]"
      ]
     },
     "execution_count": 117,
     "metadata": {},
     "output_type": "execute_result"
    }
   ],
   "source": [
    "b = [1, 2, 3, 4]\n",
    "result2 = [num * 3 for num in b]\n",
    "result2\n"
   ]
  },
  {
   "cell_type": "code",
   "execution_count": 119,
   "id": "84af1ebd-2340-4e5f-9557-5f544ff634f8",
   "metadata": {},
   "outputs": [
    {
     "name": "stdout",
     "output_type": "stream",
     "text": [
      "1 10\n",
      "2 20\n",
      "3 30\n",
      "4 40\n"
     ]
    },
    {
     "data": {
      "text/plain": [
       "[3, 6, 9, 12, 10, 40, 90, 160]"
      ]
     },
     "execution_count": 119,
     "metadata": {},
     "output_type": "execute_result"
    }
   ],
   "source": [
    "num1 = [1, 2, 3, 4]\n",
    "num2 = [10, 20, 30, 40]\n",
    "for n1, n2 in zip(num1, num2):\n",
    "    print(n1,n2)\n",
    "    result.append(n1 * n2)\n",
    "result"
   ]
  },
  {
   "cell_type": "code",
   "execution_count": 123,
   "id": "17d273f7-8b17-499f-bca5-d25cd9f7a312",
   "metadata": {},
   "outputs": [
    {
     "name": "stdout",
     "output_type": "stream",
     "text": [
      "[10, 40, 90, 160]\n"
     ]
    }
   ],
   "source": [
    "num1 = [1, 2, 3, 4]\n",
    "num2 = [10, 20, 30, 40]\n",
    "result3 = [n1 * n2 for n1, n2 in zip(num1, num2)]\n",
    "print(result3)"
   ]
  },
  {
   "cell_type": "code",
   "execution_count": 127,
   "id": "0e197587-d3ee-4ca5-8d5c-ba62a52abce8",
   "metadata": {},
   "outputs": [
    {
     "name": "stdout",
     "output_type": "stream",
     "text": [
      "[1, 2, 3]\n",
      "[4, 5, 6]\n",
      "[7, 8, 9]\n"
     ]
    }
   ],
   "source": [
    "list_of_lists = [ [1, 2, 3], [4, 5, 6], [7, 8, 9]]\n",
    "\n",
    "for sublist in list_of_lists:\n",
    "        print(sublist)\n"
   ]
  },
  {
   "cell_type": "code",
   "execution_count": 128,
   "id": "dffa0ffb-ad27-48ca-8e26-e4c8ce3083ab",
   "metadata": {},
   "outputs": [
    {
     "name": "stdout",
     "output_type": "stream",
     "text": [
      "1\n",
      "2\n",
      "3\n",
      "4\n",
      "5\n",
      "6\n",
      "7\n",
      "8\n",
      "9\n"
     ]
    }
   ],
   "source": [
    "list_of_lists = [ [1, 2, 3], [4, 5, 6], [7, 8, 9]]\n",
    "\n",
    "for sublist in list_of_lists:\n",
    "    for item in sublist:\n",
    "        print(item)"
   ]
  },
  {
   "cell_type": "code",
   "execution_count": 130,
   "id": "288f1feb-759f-43be-956f-29306cba3046",
   "metadata": {},
   "outputs": [
    {
     "name": "stdout",
     "output_type": "stream",
     "text": [
      "[1, 4, 9, 16, 25, 36, 49, 64, 81, 100]\n"
     ]
    }
   ],
   "source": [
    "squares = []\n",
    "for x in range(1, 11):\n",
    "    squares.append(x**2)\n",
    "\n",
    "print(squares)\n"
   ]
  },
  {
   "cell_type": "code",
   "execution_count": 129,
   "id": "a8e748b3-e3f8-4079-a141-e9dacf124135",
   "metadata": {},
   "outputs": [
    {
     "data": {
      "text/plain": [
       "[1, 4, 9, 16, 25, 36, 49, 64, 81, 100]"
      ]
     },
     "execution_count": 129,
     "metadata": {},
     "output_type": "execute_result"
    }
   ],
   "source": [
    "squares = []\n",
    "result = [x**2 for x in range(1, 11)]\n",
    "\n",
    "result"
   ]
  },
  {
   "cell_type": "markdown",
   "id": "fd10049c-6aa7-4641-a9c3-a451ec02a698",
   "metadata": {},
   "source": [
    "## while 반복문\n",
    "- 조건식이 참이면 계속 수행함\n",
    "- 예) 게임 (자동사냥)\n",
    "  + 자동사냥 버튼 ==> True"
   ]
  }
 ],
 "metadata": {
  "kernelspec": {
   "display_name": "Python 3 (ipykernel)",
   "language": "python",
   "name": "python3"
  },
  "language_info": {
   "codemirror_mode": {
    "name": "ipython",
    "version": 3
   },
   "file_extension": ".py",
   "mimetype": "text/x-python",
   "name": "python",
   "nbconvert_exporter": "python",
   "pygments_lexer": "ipython3",
   "version": "3.11.7"
  }
 },
 "nbformat": 4,
 "nbformat_minor": 5
}
